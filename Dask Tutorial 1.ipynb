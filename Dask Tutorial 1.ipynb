{
 "cells": [
  {
   "cell_type": "markdown",
   "id": "854dfcfe",
   "metadata": {},
   "source": [
    "<img src='images/dask-horizontal.svg' width=400>"
   ]
  },
  {
   "cell_type": "markdown",
   "id": "d31553d3",
   "metadata": {},
   "source": [
    "### About Dask\n",
    "\n",
    "Dask was created in 2014 as part of the Blase project, a DARPA funded project at Continuum/Anaconda. It has since grown into a multi-institution community project with developers from projects including NumPy, Pandas, Jupyter and Scikit-Learn. Many of the core Dask maintainers are employed to work on the project by companies including Continuum/Anaconda, Prefect, NVIDIA, Capital One, Saturn Cloud and Coiled.\n",
    "\n",
    "Fundamentally, Dask allows a variety of parallel workflows using existing Python constructs, patterns, or libraries, including dataframes, arrays (scaling out Numpy), bags (an unordered collection construct a bit like `Counter`), and `concurrent.futures`\n",
    "\n",
    "In addition to working in conjunction with Python ecosystem tools, Dask's extremely low scheduling overhead (nanoseconds in some cases) allows it work well even on single machines, and smoothly scale up.\n",
    "\n",
    "Dask supports a variety of use cases for industry and research: https://stories.dask.org/en/latest/\n",
    "\n",
    "With its recent 2.x releases, and integration to other projects (e.g., RAPIDS for GPU computation), many commercial enterprises are paying attention and jumping in to parallel Python with Dask.\n",
    "\n",
    "__Dask Ecosystem__\n",
    "\n",
    "In addition to the core Dask library and its Distributed scheduler, the Dask ecosystem connects several additional initiatives, including...\n",
    "* Dask ML - parallel machine learning, with a scikit-learn-style API\n",
    "* Dask-kubernetes\n",
    "* Dask-XGBoost\n",
    "* Dask-YARN\n",
    "* Dask-image\n",
    "* Dask-cuDF\n",
    "* ... and some others\n",
    "\n",
    "__What's Not Part of Dask?__\n",
    "\n",
    "There are lots of functions that integrate to Dask, but are not represented in the core Dask ecosystem, including...\n",
    "\n",
    "* a SQL engine\n",
    "* data storage\n",
    "* data catalog\n",
    "* visualization\n",
    "* coarse-grained scheduling / orchestration\n",
    "* streaming\n",
    "\n",
    "... although there are typically other Python packages that fill these needs (e.g., Kartothek or Intake for a data catalog).\n"
   ]
  },
  {
   "cell_type": "markdown",
   "id": "c3246412",
   "metadata": {},
   "source": [
    "#### Why Dask over Pandas ?"
   ]
  },
  {
   "cell_type": "markdown",
   "id": "3fd66c58",
   "metadata": {},
   "source": [
    "Pandas reads data frames in the typical way, whereas dask leverages parallel processing. The data frame is divided into sections and then processed. By Using Dask we can utilise million-row data frame.\n",
    "\n",
    "\n",
    "\n",
    "1.Dask is 20x Faster than Pandas.\n",
    "\n",
    "2.Dask provides ways to scale Pandas, Scikit-Learn, and Numpy workflows more natively, with minimal rewriting the code.\n",
    "\n",
    "3.You can use Dask to scale your python code for data analysis."
   ]
  },
  {
   "cell_type": "markdown",
   "id": "cdfa90ab",
   "metadata": {},
   "source": [
    "#### Introduction to Dask"
   ]
  },
  {
   "cell_type": "markdown",
   "id": "5d3718be",
   "metadata": {},
   "source": [
    "1.Dask is a open-source library that provides advanced parallelization/parallel computation specially when you are working with large data.\n",
    "\n",
    "2.Dask supports multi-core and distributed parallel processing on datasets that are bigger than memory.\n",
    "\n",
    "3.Dask is smaller and lighter weight than other parallel computation library"
   ]
  },
  {
   "cell_type": "markdown",
   "id": "b9241099",
   "metadata": {},
   "source": [
    "### Dask alternatives"
   ]
  },
  {
   "cell_type": "markdown",
   "id": "a4eea092",
   "metadata": {},
   "source": [
    "1.Apache PySpark\n",
    "\n",
    "2.Celery\n",
    "\n",
    "3.Airflow\n"
   ]
  },
  {
   "cell_type": "markdown",
   "id": "e08d485c",
   "metadata": {},
   "source": [
    "### Advantages of using Dask"
   ]
  },
  {
   "cell_type": "markdown",
   "id": "838d587d",
   "metadata": {},
   "source": [
    "1.It Can Process Large Dataset\n",
    "\n",
    "2.Very simple To use \n",
    "\n",
    "3.Multi processing  is very efficient and very faster\n",
    "\n",
    "4.Dask Can Run over Distributed system\n",
    "\n",
    "5.Dask can integrate with Numpy, Pandas, and Scikit-Learn ,statistics very seamlessly.\n",
    "\n",
    "6.Faster operation because of its low overhead and minimum serialisation.\n",
    "\n",
    "7.Runs resiliently on clusters with thousands of cores.\n",
    "\n",
    "8.Dask is having 3 parallel collections named as  Dataframes, Bags and Arrays.\n",
    "\n",
    "9.Speeding long computations by using multiple cores"
   ]
  },
  {
   "cell_type": "markdown",
   "id": "7a59df98",
   "metadata": {},
   "source": [
    "### \tDask Installation\n",
    "\n",
    "### How Do We Set Up and/or Deploy Dask?\n",
    "\n",
    "The easiest way to install Dask is with Anaconda: `conda install dask`\n",
    "\n",
    "__Schedulers and Clustering__\n",
    "\n",
    "Dask has a simple default scheduler called the \"single machine scheduler\" -- this is the scheduler that's used if your `import dask` and start running code without explicitly using a `Client` object. It can be handy for quick-and-dirty testing, but I would suggest that a best practice is to __use the newer \"distributed scheduler\" even for single-machine workloads__\n",
    "\n",
    "The distributed scheduler can work with \n",
    "* threads in one process (although that is often not a great idea due to the GIL)\n",
    "* multiple processes on one machine\n",
    "* multiple processes on multiple machines\n",
    "\n",
    "The distributed scheduler has additional useful features including data locality awareness and realtime graphical dashboards."
   ]
  },
  {
   "cell_type": "markdown",
   "id": "00423afa",
   "metadata": {},
   "source": [
    "#### Installing  all dask Collection in single command"
   ]
  },
  {
   "cell_type": "code",
   "execution_count": null,
   "id": "f0b76196",
   "metadata": {
    "scrolled": true
   },
   "outputs": [],
   "source": [
    "!python -m pip install \"dask[complete]\" "
   ]
  },
  {
   "cell_type": "code",
   "execution_count": null,
   "id": "837ee5c3",
   "metadata": {
    "jupyter": {
     "outputs_hidden": true
    }
   },
   "outputs": [],
   "source": [
    "!python -m pip install dask "
   ]
  },
  {
   "cell_type": "markdown",
   "id": "09aabeca",
   "metadata": {},
   "source": [
    "### Install other Dask Collection Manually "
   ]
  },
  {
   "cell_type": "code",
   "execution_count": null,
   "id": "e45112d7",
   "metadata": {},
   "outputs": [],
   "source": [
    "!python -m pip install \"dask[array]\"       #Install requirements for dask array\n",
    "!python -m pip install \"dask[dataframe]\"   #Install requirements for dask dataframe\n",
    "!python -m pip install \"dask[diagnostics]\" #Install requirements for dask diagnostics\n",
    "!python -m pip install \"dask[distributed]\" #Install requirements for distributed dask"
   ]
  },
  {
   "cell_type": "code",
   "execution_count": null,
   "id": "fc573258",
   "metadata": {},
   "outputs": [],
   "source": []
  },
  {
   "cell_type": "markdown",
   "id": "27af6d9a",
   "metadata": {},
   "source": [
    "### How to implement Parallel Processing with Dask"
   ]
  },
  {
   "cell_type": "code",
   "execution_count": null,
   "id": "6cfef77d",
   "metadata": {},
   "outputs": [],
   "source": [
    "from time import sleep\n",
    "\n",
    "def apply_discount(x):\n",
    "  sleep(1)\n",
    "  x=x-0.2*x\n",
    "  return x"
   ]
  },
  {
   "cell_type": "code",
   "execution_count": null,
   "id": "20ca374d",
   "metadata": {},
   "outputs": [],
   "source": [
    "def get_total(a,b):\n",
    "  sleep(1)\n",
    "  return a+b"
   ]
  },
  {
   "cell_type": "code",
   "execution_count": null,
   "id": "5ec999fa",
   "metadata": {},
   "outputs": [],
   "source": [
    "def get_total_price(x,y):\n",
    "  sleep(1)\n",
    "  a=apply_discount(x)\n",
    "  b=apply_discount(y)\n",
    "  get_total(a,b)"
   ]
  },
  {
   "cell_type": "code",
   "execution_count": null,
   "id": "00a8f20a",
   "metadata": {},
   "outputs": [],
   "source": [
    "%%time  \n",
    "# This takes three seconds to run because we call each\n",
    "# function sequentially, one after the other\n",
    "\n",
    "x = apply_discount(100)\n",
    "y = apply_discount(200)\n",
    "z = get_total_price(x,y)"
   ]
  },
  {
   "cell_type": "markdown",
   "id": "d795e0e1",
   "metadata": {},
   "source": [
    "**%%time  will tell you how many time it takes to execute , here we have run sequencial**"
   ]
  },
  {
   "cell_type": "markdown",
   "id": "ae076a7c",
   "metadata": {},
   "source": [
    "#### Lets try with Dax"
   ]
  },
  {
   "cell_type": "code",
   "execution_count": null,
   "id": "3cb69dc2",
   "metadata": {},
   "outputs": [],
   "source": [
    "# Import dask and and dask.delayed\n",
    "import dask\n",
    "from dask import delayed"
   ]
  },
  {
   "cell_type": "code",
   "execution_count": null,
   "id": "5e29ab9e",
   "metadata": {},
   "outputs": [],
   "source": [
    "%%time\n",
    "# Wrapping the function calls using dask.delayed\n",
    "x = delayed(apply_discount)(100)\n",
    "y = delayed(apply_discount)(200)\n",
    "z = delayed(get_total_price)(x, y)"
   ]
  },
  {
   "cell_type": "code",
   "execution_count": null,
   "id": "66517253",
   "metadata": {},
   "outputs": [],
   "source": [
    "%%time\n",
    "z.compute()"
   ]
  },
  {
   "cell_type": "markdown",
   "id": "94fce8bf",
   "metadata": {},
   "source": [
    "**Though it’s just 1 sec, the total time taken has reduced. This is the basic concept of parallel computing. Dask makes it very convenient**"
   ]
  },
  {
   "cell_type": "markdown",
   "id": "26865e22",
   "metadata": {},
   "source": [
    "## Dask Array"
   ]
  },
  {
   "cell_type": "code",
   "execution_count": null,
   "id": "531dbb3f",
   "metadata": {},
   "outputs": [],
   "source": [
    "!python -m pip install \"dask[array]\"   "
   ]
  },
  {
   "cell_type": "markdown",
   "id": "d55f3a09",
   "metadata": {},
   "source": [
    "## Introduction to Dask Arrays\n",
    "\n",
    "Dask Array implements a subset of the NumPy ndarray interface using blocked algorithms, cutting up the large array into many small arrays. This lets us compute on arrays larger than memory using all of our cores. We coordinate these blocked algorithms using Dask graphs.\n",
    "\n",
    "Dask arrays coordinate many NumPy arrays arranged into a grid. These NumPy arrays may live on disk or on other machines.\n",
    "\n",
    "<img src=\"images/dask-array-black-text.svg\">"
   ]
  },
  {
   "cell_type": "markdown",
   "id": "69881a5a",
   "metadata": {},
   "source": [
    "**Dask Array uses blocked techniques to implement a portion of the NumPy ndarray interface, splitting the huge array into many little arrays. This allows us to use all of our cores to compute on arrays larger than memory. Dask graphs are used to coordinate these stalled algorithms**.\n",
    "\n",
    "- Dask arrays are chunked, n-dimensional arrays\n",
    "- Can think of a Dask array as a collection of NumPy `ndarray` arrays\n",
    "- Dask arrays implement a large subset of the NumPy API using blocked algorithms\n",
    "- For many purposes Dask arrays can serve as drop-in replacements for NumPy arrays"
   ]
  },
  {
   "cell_type": "markdown",
   "id": "0c1fcf92",
   "metadata": {},
   "source": [
    "**Bokeh is the Dependency of Dask for visualisation in dashboard**"
   ]
  },
  {
   "cell_type": "markdown",
   "id": "43cb3245",
   "metadata": {},
   "source": [
    "## Distributed Dask Computation\n",
    "\n",
    "**Dask’s distributed scheduler provides a lot of advanced features for both local and distributed computations. It’s the recommended scheduler for most workflows and includes a complete diagnostic dashboard for visualizing the status of your cluster.**"
   ]
  },
  {
   "cell_type": "code",
   "execution_count": null,
   "id": "d661460b",
   "metadata": {},
   "outputs": [],
   "source": [
    "# !pip uninstall bokeh  "
   ]
  },
  {
   "cell_type": "code",
   "execution_count": null,
   "id": "9d90dd9f",
   "metadata": {},
   "outputs": [],
   "source": [
    "!pip install bokeh  "
   ]
  },
  {
   "cell_type": "code",
   "execution_count": null,
   "id": "d9e0281a",
   "metadata": {},
   "outputs": [],
   "source": [
    "# !python -m pip install jupyter-server-proxy"
   ]
  },
  {
   "cell_type": "code",
   "execution_count": null,
   "id": "9a0f16fe-5485-49ba-9206-bcebfb8baccf",
   "metadata": {},
   "outputs": [],
   "source": [
    "# !pip install psutil"
   ]
  },
  {
   "cell_type": "markdown",
   "id": "8f1c302d",
   "metadata": {},
   "source": [
    "### Distributed\n",
    "\n",
    "Dask has the ability to run work on mulitple machines using the distributed scheduler.\n",
    "\n",
    "Until now we have actually been using the distributed scheduler for our work, but just on a single machine.\n",
    "\n",
    "When we instantiate a `Client()` object with no arguments it will attempt to locate a Dask cluster. It will check your local Dask config and environment variables to see if connection information has been specified. If not it will create an instance of `LocalCluster` and use that.\n",
    "\n",
    "*Specifying connection information in config is useful for system administrators to provide access to their users. We do this in the [Dask Helm Chart for Kubernetes]\n",
    "(https://github.com/dask/helm-chart/blob/master/dask/templates/dask-jupyter-deployment.yaml#L46-L48), the chart installs a multi-node Dask cluster and a Jupyter server on a Kubernetes cluster and Jupyter is preconfigured to discover the distributed cluster.*"
   ]
  },
  {
   "cell_type": "markdown",
   "id": "5d0c3d8e",
   "metadata": {},
   "source": [
    "#### Local Cluster\n",
    "\n",
    "Let's explore the `LocalCluster` object ourselves and see what it is doing."
   ]
  },
  {
   "cell_type": "code",
   "execution_count": 5,
   "id": "9368b877",
   "metadata": {},
   "outputs": [],
   "source": [
    "from dask.distributed import LocalCluster, Client"
   ]
  },
  {
   "cell_type": "code",
   "execution_count": 6,
   "id": "1b2e28c1",
   "metadata": {},
   "outputs": [
    {
     "data": {
      "text/html": [
       "<div class=\"jp-RenderedHTMLCommon jp-RenderedHTML jp-mod-trusted jp-OutputArea-output\">\n",
       "    <div style=\"width: 24px; height: 24px; background-color: #e1e1e1; border: 3px solid #9D9D9D; border-radius: 5px; position: absolute;\">\n",
       "    </div>\n",
       "    <div style=\"margin-left: 48px;\">\n",
       "        <h3 style=\"margin-bottom: 0px; margin-top: 0px;\">LocalCluster</h3>\n",
       "        <p style=\"color: #9D9D9D; margin-bottom: 0px;\">992fd6e2</p>\n",
       "        <table style=\"width: 100%; text-align: left;\">\n",
       "            <tr>\n",
       "                <td style=\"text-align: left;\">\n",
       "                    <strong>Dashboard:</strong> <a href=\"http://127.0.0.1:8787/status\" target=\"_blank\">http://127.0.0.1:8787/status</a>\n",
       "                </td>\n",
       "                <td style=\"text-align: left;\">\n",
       "                    <strong>Workers:</strong> 4\n",
       "                </td>\n",
       "            </tr>\n",
       "            <tr>\n",
       "                <td style=\"text-align: left;\">\n",
       "                    <strong>Total threads:</strong> 8\n",
       "                </td>\n",
       "                <td style=\"text-align: left;\">\n",
       "                    <strong>Total memory:</strong> 7.85 GiB\n",
       "                </td>\n",
       "            </tr>\n",
       "            \n",
       "            <tr>\n",
       "    <td style=\"text-align: left;\"><strong>Status:</strong> running</td>\n",
       "    <td style=\"text-align: left;\"><strong>Using processes:</strong> True</td>\n",
       "</tr>\n",
       "\n",
       "            \n",
       "        </table>\n",
       "\n",
       "        <details>\n",
       "            <summary style=\"margin-bottom: 20px;\">\n",
       "                <h3 style=\"display: inline;\">Scheduler Info</h3>\n",
       "            </summary>\n",
       "\n",
       "            <div style=\"\">\n",
       "    <div>\n",
       "        <div style=\"width: 24px; height: 24px; background-color: #FFF7E5; border: 3px solid #FF6132; border-radius: 5px; position: absolute;\"> </div>\n",
       "        <div style=\"margin-left: 48px;\">\n",
       "            <h3 style=\"margin-bottom: 0px;\">Scheduler</h3>\n",
       "            <p style=\"color: #9D9D9D; margin-bottom: 0px;\">Scheduler-baf12a30-46d7-47bd-b874-fe5e7e549354</p>\n",
       "            <table style=\"width: 100%; text-align: left;\">\n",
       "                <tr>\n",
       "                    <td style=\"text-align: left;\">\n",
       "                        <strong>Comm:</strong> tcp://127.0.0.1:59001\n",
       "                    </td>\n",
       "                    <td style=\"text-align: left;\">\n",
       "                        <strong>Workers:</strong> 4\n",
       "                    </td>\n",
       "                </tr>\n",
       "                <tr>\n",
       "                    <td style=\"text-align: left;\">\n",
       "                        <strong>Dashboard:</strong> <a href=\"http://127.0.0.1:8787/status\" target=\"_blank\">http://127.0.0.1:8787/status</a>\n",
       "                    </td>\n",
       "                    <td style=\"text-align: left;\">\n",
       "                        <strong>Total threads:</strong> 8\n",
       "                    </td>\n",
       "                </tr>\n",
       "                <tr>\n",
       "                    <td style=\"text-align: left;\">\n",
       "                        <strong>Started:</strong> Just now\n",
       "                    </td>\n",
       "                    <td style=\"text-align: left;\">\n",
       "                        <strong>Total memory:</strong> 7.85 GiB\n",
       "                    </td>\n",
       "                </tr>\n",
       "            </table>\n",
       "        </div>\n",
       "    </div>\n",
       "\n",
       "    <details style=\"margin-left: 48px;\">\n",
       "        <summary style=\"margin-bottom: 20px;\">\n",
       "            <h3 style=\"display: inline;\">Workers</h3>\n",
       "        </summary>\n",
       "\n",
       "        \n",
       "        <div style=\"margin-bottom: 20px;\">\n",
       "            <div style=\"width: 24px; height: 24px; background-color: #DBF5FF; border: 3px solid #4CC9FF; border-radius: 5px; position: absolute;\"> </div>\n",
       "            <div style=\"margin-left: 48px;\">\n",
       "            <details>\n",
       "                <summary>\n",
       "                    <h4 style=\"margin-bottom: 0px; display: inline;\">Worker: 0</h4>\n",
       "                </summary>\n",
       "                <table style=\"width: 100%; text-align: left;\">\n",
       "                    <tr>\n",
       "                        <td style=\"text-align: left;\">\n",
       "                            <strong>Comm: </strong> tcp://127.0.0.1:59037\n",
       "                        </td>\n",
       "                        <td style=\"text-align: left;\">\n",
       "                            <strong>Total threads: </strong> 2\n",
       "                        </td>\n",
       "                    </tr>\n",
       "                    <tr>\n",
       "                        <td style=\"text-align: left;\">\n",
       "                            <strong>Dashboard: </strong> <a href=\"http://127.0.0.1:59038/status\" target=\"_blank\">http://127.0.0.1:59038/status</a>\n",
       "                        </td>\n",
       "                        <td style=\"text-align: left;\">\n",
       "                            <strong>Memory: </strong> 1.96 GiB\n",
       "                        </td>\n",
       "                    </tr>\n",
       "                    <tr>\n",
       "                        <td style=\"text-align: left;\">\n",
       "                            <strong>Nanny: </strong> tcp://127.0.0.1:59004\n",
       "                        </td>\n",
       "                        <td style=\"text-align: left;\"></td>\n",
       "                    </tr>\n",
       "                    <tr>\n",
       "                        <td colspan=\"2\" style=\"text-align: left;\">\n",
       "                            <strong>Local directory: </strong> c:\\MyFile\\Edge download\\Ineuron\\dask-video-tutorial-main\\dask-video-tutorial-main\\dask-worker-space\\worker-uruphpni\n",
       "                        </td>\n",
       "                    </tr>\n",
       "\n",
       "                    \n",
       "\n",
       "                    \n",
       "\n",
       "                </table>\n",
       "            </details>\n",
       "            </div>\n",
       "        </div>\n",
       "        \n",
       "        <div style=\"margin-bottom: 20px;\">\n",
       "            <div style=\"width: 24px; height: 24px; background-color: #DBF5FF; border: 3px solid #4CC9FF; border-radius: 5px; position: absolute;\"> </div>\n",
       "            <div style=\"margin-left: 48px;\">\n",
       "            <details>\n",
       "                <summary>\n",
       "                    <h4 style=\"margin-bottom: 0px; display: inline;\">Worker: 1</h4>\n",
       "                </summary>\n",
       "                <table style=\"width: 100%; text-align: left;\">\n",
       "                    <tr>\n",
       "                        <td style=\"text-align: left;\">\n",
       "                            <strong>Comm: </strong> tcp://127.0.0.1:59029\n",
       "                        </td>\n",
       "                        <td style=\"text-align: left;\">\n",
       "                            <strong>Total threads: </strong> 2\n",
       "                        </td>\n",
       "                    </tr>\n",
       "                    <tr>\n",
       "                        <td style=\"text-align: left;\">\n",
       "                            <strong>Dashboard: </strong> <a href=\"http://127.0.0.1:59031/status\" target=\"_blank\">http://127.0.0.1:59031/status</a>\n",
       "                        </td>\n",
       "                        <td style=\"text-align: left;\">\n",
       "                            <strong>Memory: </strong> 1.96 GiB\n",
       "                        </td>\n",
       "                    </tr>\n",
       "                    <tr>\n",
       "                        <td style=\"text-align: left;\">\n",
       "                            <strong>Nanny: </strong> tcp://127.0.0.1:59006\n",
       "                        </td>\n",
       "                        <td style=\"text-align: left;\"></td>\n",
       "                    </tr>\n",
       "                    <tr>\n",
       "                        <td colspan=\"2\" style=\"text-align: left;\">\n",
       "                            <strong>Local directory: </strong> c:\\MyFile\\Edge download\\Ineuron\\dask-video-tutorial-main\\dask-video-tutorial-main\\dask-worker-space\\worker-9dzwrw6o\n",
       "                        </td>\n",
       "                    </tr>\n",
       "\n",
       "                    \n",
       "\n",
       "                    \n",
       "\n",
       "                </table>\n",
       "            </details>\n",
       "            </div>\n",
       "        </div>\n",
       "        \n",
       "        <div style=\"margin-bottom: 20px;\">\n",
       "            <div style=\"width: 24px; height: 24px; background-color: #DBF5FF; border: 3px solid #4CC9FF; border-radius: 5px; position: absolute;\"> </div>\n",
       "            <div style=\"margin-left: 48px;\">\n",
       "            <details>\n",
       "                <summary>\n",
       "                    <h4 style=\"margin-bottom: 0px; display: inline;\">Worker: 2</h4>\n",
       "                </summary>\n",
       "                <table style=\"width: 100%; text-align: left;\">\n",
       "                    <tr>\n",
       "                        <td style=\"text-align: left;\">\n",
       "                            <strong>Comm: </strong> tcp://127.0.0.1:59034\n",
       "                        </td>\n",
       "                        <td style=\"text-align: left;\">\n",
       "                            <strong>Total threads: </strong> 2\n",
       "                        </td>\n",
       "                    </tr>\n",
       "                    <tr>\n",
       "                        <td style=\"text-align: left;\">\n",
       "                            <strong>Dashboard: </strong> <a href=\"http://127.0.0.1:59035/status\" target=\"_blank\">http://127.0.0.1:59035/status</a>\n",
       "                        </td>\n",
       "                        <td style=\"text-align: left;\">\n",
       "                            <strong>Memory: </strong> 1.96 GiB\n",
       "                        </td>\n",
       "                    </tr>\n",
       "                    <tr>\n",
       "                        <td style=\"text-align: left;\">\n",
       "                            <strong>Nanny: </strong> tcp://127.0.0.1:59005\n",
       "                        </td>\n",
       "                        <td style=\"text-align: left;\"></td>\n",
       "                    </tr>\n",
       "                    <tr>\n",
       "                        <td colspan=\"2\" style=\"text-align: left;\">\n",
       "                            <strong>Local directory: </strong> c:\\MyFile\\Edge download\\Ineuron\\dask-video-tutorial-main\\dask-video-tutorial-main\\dask-worker-space\\worker-0j30i6wh\n",
       "                        </td>\n",
       "                    </tr>\n",
       "\n",
       "                    \n",
       "\n",
       "                    \n",
       "\n",
       "                </table>\n",
       "            </details>\n",
       "            </div>\n",
       "        </div>\n",
       "        \n",
       "        <div style=\"margin-bottom: 20px;\">\n",
       "            <div style=\"width: 24px; height: 24px; background-color: #DBF5FF; border: 3px solid #4CC9FF; border-radius: 5px; position: absolute;\"> </div>\n",
       "            <div style=\"margin-left: 48px;\">\n",
       "            <details>\n",
       "                <summary>\n",
       "                    <h4 style=\"margin-bottom: 0px; display: inline;\">Worker: 3</h4>\n",
       "                </summary>\n",
       "                <table style=\"width: 100%; text-align: left;\">\n",
       "                    <tr>\n",
       "                        <td style=\"text-align: left;\">\n",
       "                            <strong>Comm: </strong> tcp://127.0.0.1:59028\n",
       "                        </td>\n",
       "                        <td style=\"text-align: left;\">\n",
       "                            <strong>Total threads: </strong> 2\n",
       "                        </td>\n",
       "                    </tr>\n",
       "                    <tr>\n",
       "                        <td style=\"text-align: left;\">\n",
       "                            <strong>Dashboard: </strong> <a href=\"http://127.0.0.1:59030/status\" target=\"_blank\">http://127.0.0.1:59030/status</a>\n",
       "                        </td>\n",
       "                        <td style=\"text-align: left;\">\n",
       "                            <strong>Memory: </strong> 1.96 GiB\n",
       "                        </td>\n",
       "                    </tr>\n",
       "                    <tr>\n",
       "                        <td style=\"text-align: left;\">\n",
       "                            <strong>Nanny: </strong> tcp://127.0.0.1:59007\n",
       "                        </td>\n",
       "                        <td style=\"text-align: left;\"></td>\n",
       "                    </tr>\n",
       "                    <tr>\n",
       "                        <td colspan=\"2\" style=\"text-align: left;\">\n",
       "                            <strong>Local directory: </strong> c:\\MyFile\\Edge download\\Ineuron\\dask-video-tutorial-main\\dask-video-tutorial-main\\dask-worker-space\\worker-2cw0zfgk\n",
       "                        </td>\n",
       "                    </tr>\n",
       "\n",
       "                    \n",
       "\n",
       "                    \n",
       "\n",
       "                </table>\n",
       "            </details>\n",
       "            </div>\n",
       "        </div>\n",
       "        \n",
       "\n",
       "    </details>\n",
       "</div>\n",
       "\n",
       "        </details>\n",
       "    </div>\n",
       "</div>"
      ],
      "text/plain": [
       "LocalCluster(992fd6e2, 'tcp://127.0.0.1:59001', workers=4, threads=8, memory=7.85 GiB)"
      ]
     },
     "metadata": {},
     "output_type": "display_data"
    }
   ],
   "source": [
    "cluster = LocalCluster()\n",
    "cluster"
   ]
  },
  {
   "cell_type": "markdown",
   "id": "9f559690",
   "metadata": {},
   "source": [
    "Creating a cluster object will create a Dask scheduler and a number of Dask workers. If no arguments are specified then it will autodetect the number of CPU cores your system has and the amount of memory and create workers to appropriately fill that.\n",
    "\n",
    "You can also specify these arguments yourself. Let's have a look at the docstring to see the options we have available.\n",
    "\n",
    "*These arguments can also be passed to `Client` and in the case where it creates a `LocalCluster` they will just be passed on down the line.*"
   ]
  },
  {
   "cell_type": "code",
   "execution_count": 7,
   "id": "2708db01",
   "metadata": {},
   "outputs": [
    {
     "name": "stdout",
     "output_type": "stream",
     "text": [
      "\u001b[1;31mInit signature:\u001b[0m\n",
      "\u001b[0mLocalCluster\u001b[0m\u001b[1;33m(\u001b[0m\u001b[1;33m\n",
      "\u001b[0m    \u001b[0mname\u001b[0m\u001b[1;33m=\u001b[0m\u001b[1;32mNone\u001b[0m\u001b[1;33m,\u001b[0m\u001b[1;33m\n",
      "\u001b[0m    \u001b[0mn_workers\u001b[0m\u001b[1;33m=\u001b[0m\u001b[1;32mNone\u001b[0m\u001b[1;33m,\u001b[0m\u001b[1;33m\n",
      "\u001b[0m    \u001b[0mthreads_per_worker\u001b[0m\u001b[1;33m=\u001b[0m\u001b[1;32mNone\u001b[0m\u001b[1;33m,\u001b[0m\u001b[1;33m\n",
      "\u001b[0m    \u001b[0mprocesses\u001b[0m\u001b[1;33m=\u001b[0m\u001b[1;32mNone\u001b[0m\u001b[1;33m,\u001b[0m\u001b[1;33m\n",
      "\u001b[0m    \u001b[0mloop\u001b[0m\u001b[1;33m=\u001b[0m\u001b[1;32mNone\u001b[0m\u001b[1;33m,\u001b[0m\u001b[1;33m\n",
      "\u001b[0m    \u001b[0mstart\u001b[0m\u001b[1;33m=\u001b[0m\u001b[1;32mNone\u001b[0m\u001b[1;33m,\u001b[0m\u001b[1;33m\n",
      "\u001b[0m    \u001b[0mhost\u001b[0m\u001b[1;33m=\u001b[0m\u001b[1;32mNone\u001b[0m\u001b[1;33m,\u001b[0m\u001b[1;33m\n",
      "\u001b[0m    \u001b[0mip\u001b[0m\u001b[1;33m=\u001b[0m\u001b[1;32mNone\u001b[0m\u001b[1;33m,\u001b[0m\u001b[1;33m\n",
      "\u001b[0m    \u001b[0mscheduler_port\u001b[0m\u001b[1;33m=\u001b[0m\u001b[1;36m0\u001b[0m\u001b[1;33m,\u001b[0m\u001b[1;33m\n",
      "\u001b[0m    \u001b[0msilence_logs\u001b[0m\u001b[1;33m=\u001b[0m\u001b[1;36m30\u001b[0m\u001b[1;33m,\u001b[0m\u001b[1;33m\n",
      "\u001b[0m    \u001b[0mdashboard_address\u001b[0m\u001b[1;33m=\u001b[0m\u001b[1;34m':8787'\u001b[0m\u001b[1;33m,\u001b[0m\u001b[1;33m\n",
      "\u001b[0m    \u001b[0mworker_dashboard_address\u001b[0m\u001b[1;33m=\u001b[0m\u001b[1;32mNone\u001b[0m\u001b[1;33m,\u001b[0m\u001b[1;33m\n",
      "\u001b[0m    \u001b[0mdiagnostics_port\u001b[0m\u001b[1;33m=\u001b[0m\u001b[1;32mNone\u001b[0m\u001b[1;33m,\u001b[0m\u001b[1;33m\n",
      "\u001b[0m    \u001b[0mservices\u001b[0m\u001b[1;33m=\u001b[0m\u001b[1;32mNone\u001b[0m\u001b[1;33m,\u001b[0m\u001b[1;33m\n",
      "\u001b[0m    \u001b[0mworker_services\u001b[0m\u001b[1;33m=\u001b[0m\u001b[1;32mNone\u001b[0m\u001b[1;33m,\u001b[0m\u001b[1;33m\n",
      "\u001b[0m    \u001b[0mservice_kwargs\u001b[0m\u001b[1;33m=\u001b[0m\u001b[1;32mNone\u001b[0m\u001b[1;33m,\u001b[0m\u001b[1;33m\n",
      "\u001b[0m    \u001b[0masynchronous\u001b[0m\u001b[1;33m=\u001b[0m\u001b[1;32mFalse\u001b[0m\u001b[1;33m,\u001b[0m\u001b[1;33m\n",
      "\u001b[0m    \u001b[0msecurity\u001b[0m\u001b[1;33m=\u001b[0m\u001b[1;32mNone\u001b[0m\u001b[1;33m,\u001b[0m\u001b[1;33m\n",
      "\u001b[0m    \u001b[0mprotocol\u001b[0m\u001b[1;33m=\u001b[0m\u001b[1;32mNone\u001b[0m\u001b[1;33m,\u001b[0m\u001b[1;33m\n",
      "\u001b[0m    \u001b[0mblocked_handlers\u001b[0m\u001b[1;33m=\u001b[0m\u001b[1;32mNone\u001b[0m\u001b[1;33m,\u001b[0m\u001b[1;33m\n",
      "\u001b[0m    \u001b[0minterface\u001b[0m\u001b[1;33m=\u001b[0m\u001b[1;32mNone\u001b[0m\u001b[1;33m,\u001b[0m\u001b[1;33m\n",
      "\u001b[0m    \u001b[0mworker_class\u001b[0m\u001b[1;33m=\u001b[0m\u001b[1;32mNone\u001b[0m\u001b[1;33m,\u001b[0m\u001b[1;33m\n",
      "\u001b[0m    \u001b[0mscheduler_kwargs\u001b[0m\u001b[1;33m=\u001b[0m\u001b[1;32mNone\u001b[0m\u001b[1;33m,\u001b[0m\u001b[1;33m\n",
      "\u001b[0m    \u001b[0mscheduler_sync_interval\u001b[0m\u001b[1;33m=\u001b[0m\u001b[1;36m1\u001b[0m\u001b[1;33m,\u001b[0m\u001b[1;33m\n",
      "\u001b[0m    \u001b[1;33m**\u001b[0m\u001b[0mworker_kwargs\u001b[0m\u001b[1;33m,\u001b[0m\u001b[1;33m\n",
      "\u001b[0m\u001b[1;33m)\u001b[0m\u001b[1;33m\u001b[0m\u001b[1;33m\u001b[0m\u001b[0m\n",
      "\u001b[1;31mDocstring:\u001b[0m     \n",
      "Create local Scheduler and Workers\n",
      "\n",
      "This creates a \"cluster\" of a scheduler and workers running on the local\n",
      "machine.\n",
      "\n",
      "Parameters\n",
      "----------\n",
      "n_workers: int\n",
      "    Number of workers to start\n",
      "processes: bool\n",
      "    Whether to use processes (True) or threads (False).  Defaults to True, unless\n",
      "    worker_class=Worker, in which case it defaults to False.\n",
      "threads_per_worker: int\n",
      "    Number of threads per each worker\n",
      "scheduler_port: int\n",
      "    Port of the scheduler.  8786 by default, use 0 to choose a random port\n",
      "silence_logs: logging level\n",
      "    Level of logs to print out to stdout.  ``logging.WARN`` by default.\n",
      "    Use a falsey value like False or None for no change.\n",
      "host: string\n",
      "    Host address on which the scheduler will listen, defaults to only localhost\n",
      "ip: string\n",
      "    Deprecated.  See ``host`` above.\n",
      "dashboard_address: str\n",
      "    Address on which to listen for the Bokeh diagnostics server like\n",
      "    'localhost:8787' or '0.0.0.0:8787'.  Defaults to ':8787'.\n",
      "    Set to ``None`` to disable the dashboard.\n",
      "    Use ':0' for a random port.\n",
      "worker_dashboard_address: str\n",
      "    Address on which to listen for the Bokeh worker diagnostics server like\n",
      "    'localhost:8787' or '0.0.0.0:8787'.  Defaults to None which disables the dashboard.\n",
      "    Use ':0' for a random port.\n",
      "diagnostics_port: int\n",
      "    Deprecated.  See dashboard_address.\n",
      "asynchronous: bool (False by default)\n",
      "    Set to True if using this cluster within async/await functions or within\n",
      "    Tornado gen.coroutines.  This should remain False for normal use.\n",
      "blocked_handlers: List[str]\n",
      "    A list of strings specifying a blocklist of handlers to disallow on the\n",
      "    Scheduler, like ``['feed', 'run_function']``\n",
      "service_kwargs: Dict[str, Dict]\n",
      "    Extra keywords to hand to the running services\n",
      "security : Security or bool, optional\n",
      "    Configures communication security in this cluster. Can be a security\n",
      "    object, or True. If True, temporary self-signed credentials will\n",
      "    be created automatically.\n",
      "protocol: str (optional)\n",
      "    Protocol to use like ``tcp://``, ``tls://``, ``inproc://``\n",
      "    This defaults to sensible choice given other keyword arguments like\n",
      "    ``processes`` and ``security``\n",
      "interface: str (optional)\n",
      "    Network interface to use.  Defaults to lo/localhost\n",
      "worker_class: Worker\n",
      "    Worker class used to instantiate workers from. Defaults to Worker if\n",
      "    processes=False and Nanny if processes=True or omitted.\n",
      "**worker_kwargs:\n",
      "    Extra worker arguments. Any additional keyword arguments will be passed\n",
      "    to the ``Worker`` class constructor.\n",
      "\n",
      "Examples\n",
      "--------\n",
      ">>> cluster = LocalCluster()  # Create a local cluster  # doctest: +SKIP\n",
      ">>> cluster  # doctest: +SKIP\n",
      "LocalCluster(\"127.0.0.1:8786\", workers=8, threads=8)\n",
      "\n",
      ">>> c = Client(cluster)  # connect to local cluster  # doctest: +SKIP\n",
      "\n",
      "Scale the cluster to three workers\n",
      "\n",
      ">>> cluster.scale(3)  # doctest: +SKIP\n",
      "\n",
      "Pass extra keyword arguments to Bokeh\n",
      "\n",
      ">>> LocalCluster(service_kwargs={'dashboard': {'prefix': '/foo'}})  # doctest: +SKIP\n",
      "\u001b[1;31mFile:\u001b[0m           c:\\myfile\\applications\\anaconda\\envs\\dask\\lib\\site-packages\\distributed\\deploy\\local.py\n",
      "\u001b[1;31mType:\u001b[0m           type\n",
      "\u001b[1;31mSubclasses:\u001b[0m     \n"
     ]
    }
   ],
   "source": [
    "LocalCluster?"
   ]
  },
  {
   "cell_type": "markdown",
   "id": "75c2e389",
   "metadata": {},
   "source": [
    "Our cluster object has attributes and methods which we can use to access information about our cluster. For instance we can get the log output from the scheduler and all the workers with the `get_logs()` method."
   ]
  },
  {
   "cell_type": "code",
   "execution_count": 8,
   "id": "a9ce64af",
   "metadata": {},
   "outputs": [
    {
     "data": {
      "text/html": [
       "\n",
       "    <details>\n",
       "    <summary style='display:list-item'>Cluster</summary>\n",
       "    \n",
       "    \n",
       "        <p style=\"font-family: monospace; margin: 0;\"></p>\n",
       "    \n",
       "\n",
       "    </details>\n",
       "\n",
       "    <details>\n",
       "    <summary style='display:list-item'>Scheduler</summary>\n",
       "    \n",
       "    \n",
       "        <p style=\"font-family: monospace; margin: 0;\">distributed.scheduler - INFO - Clear task state</p>\n",
       "    \n",
       "\n",
       "    \n",
       "        <p style=\"font-family: monospace; margin: 0;\">distributed.scheduler - INFO -   Scheduler at:     tcp://127.0.0.1:59001</p>\n",
       "    \n",
       "\n",
       "    \n",
       "        <p style=\"font-family: monospace; margin: 0;\">distributed.scheduler - INFO -   dashboard at:            127.0.0.1:8787</p>\n",
       "    \n",
       "\n",
       "    \n",
       "        <p style=\"font-family: monospace; margin: 0;\">distributed.scheduler - INFO - Register worker &lt;WorkerState &#x27;tcp://127.0.0.1:59029&#x27;, name: 1, status: running, memory: 0, processing: 0&gt;</p>\n",
       "    \n",
       "\n",
       "    \n",
       "        <p style=\"font-family: monospace; margin: 0;\">distributed.scheduler - INFO - Starting worker compute stream, tcp://127.0.0.1:59029</p>\n",
       "    \n",
       "\n",
       "    \n",
       "        <p style=\"font-family: monospace; margin: 0;\">distributed.scheduler - INFO - Register worker &lt;WorkerState &#x27;tcp://127.0.0.1:59034&#x27;, name: 2, status: running, memory: 0, processing: 0&gt;</p>\n",
       "    \n",
       "\n",
       "    \n",
       "        <p style=\"font-family: monospace; margin: 0;\">distributed.scheduler - INFO - Starting worker compute stream, tcp://127.0.0.1:59034</p>\n",
       "    \n",
       "\n",
       "    \n",
       "        <p style=\"font-family: monospace; margin: 0;\">distributed.scheduler - INFO - Register worker &lt;WorkerState &#x27;tcp://127.0.0.1:59028&#x27;, name: 3, status: running, memory: 0, processing: 0&gt;</p>\n",
       "    \n",
       "\n",
       "    \n",
       "        <p style=\"font-family: monospace; margin: 0;\">distributed.scheduler - INFO - Starting worker compute stream, tcp://127.0.0.1:59028</p>\n",
       "    \n",
       "\n",
       "    \n",
       "        <p style=\"font-family: monospace; margin: 0;\">distributed.scheduler - INFO - Register worker &lt;WorkerState &#x27;tcp://127.0.0.1:59037&#x27;, name: 0, status: running, memory: 0, processing: 0&gt;</p>\n",
       "    \n",
       "\n",
       "    \n",
       "        <p style=\"font-family: monospace; margin: 0;\">distributed.scheduler - INFO - Starting worker compute stream, tcp://127.0.0.1:59037</p>\n",
       "    \n",
       "\n",
       "    </details>\n",
       "\n",
       "    <details>\n",
       "    <summary style='display:list-item'>tcp://127.0.0.1:59028</summary>\n",
       "    \n",
       "    \n",
       "        <p style=\"font-family: monospace; margin: 0;\">distributed.worker - INFO -       Start worker at:      tcp://127.0.0.1:59028</p>\n",
       "    \n",
       "\n",
       "    \n",
       "        <p style=\"font-family: monospace; margin: 0;\">distributed.worker - INFO -          Listening to:      tcp://127.0.0.1:59028</p>\n",
       "    \n",
       "\n",
       "    \n",
       "        <p style=\"font-family: monospace; margin: 0;\">distributed.worker - INFO -          dashboard at:            127.0.0.1:59030</p>\n",
       "    \n",
       "\n",
       "    \n",
       "        <p style=\"font-family: monospace; margin: 0;\">distributed.worker - INFO - Waiting to connect to:      tcp://127.0.0.1:59001</p>\n",
       "    \n",
       "\n",
       "    \n",
       "        <p style=\"font-family: monospace; margin: 0;\">distributed.worker - INFO - -------------------------------------------------</p>\n",
       "    \n",
       "\n",
       "    \n",
       "        <p style=\"font-family: monospace; margin: 0;\">distributed.worker - INFO -               Threads:                          2</p>\n",
       "    \n",
       "\n",
       "    \n",
       "        <p style=\"font-family: monospace; margin: 0;\">distributed.worker - INFO -                Memory:                   1.96 GiB</p>\n",
       "    \n",
       "\n",
       "    \n",
       "        <p style=\"font-family: monospace; margin: 0;\">distributed.worker - INFO -       Local Directory: c:\\MyFile\\Edge download\\Ineuron\\dask-video-tutorial-main\\dask-video-tutorial-main\\dask-worker-space\\worker-2cw0zfgk</p>\n",
       "    \n",
       "\n",
       "    \n",
       "        <p style=\"font-family: monospace; margin: 0;\">distributed.worker - INFO - -------------------------------------------------</p>\n",
       "    \n",
       "\n",
       "    \n",
       "        <p style=\"font-family: monospace; margin: 0;\">distributed.worker - INFO -         Registered to:      tcp://127.0.0.1:59001</p>\n",
       "    \n",
       "\n",
       "    \n",
       "        <p style=\"font-family: monospace; margin: 0;\">distributed.worker - INFO - -------------------------------------------------</p>\n",
       "    \n",
       "\n",
       "    </details>\n",
       "\n",
       "    <details>\n",
       "    <summary style='display:list-item'>tcp://127.0.0.1:59029</summary>\n",
       "    \n",
       "    \n",
       "        <p style=\"font-family: monospace; margin: 0;\">distributed.worker - INFO -       Start worker at:      tcp://127.0.0.1:59029</p>\n",
       "    \n",
       "\n",
       "    \n",
       "        <p style=\"font-family: monospace; margin: 0;\">distributed.worker - INFO -          Listening to:      tcp://127.0.0.1:59029</p>\n",
       "    \n",
       "\n",
       "    \n",
       "        <p style=\"font-family: monospace; margin: 0;\">distributed.worker - INFO -          dashboard at:            127.0.0.1:59031</p>\n",
       "    \n",
       "\n",
       "    \n",
       "        <p style=\"font-family: monospace; margin: 0;\">distributed.worker - INFO - Waiting to connect to:      tcp://127.0.0.1:59001</p>\n",
       "    \n",
       "\n",
       "    \n",
       "        <p style=\"font-family: monospace; margin: 0;\">distributed.worker - INFO - -------------------------------------------------</p>\n",
       "    \n",
       "\n",
       "    \n",
       "        <p style=\"font-family: monospace; margin: 0;\">distributed.worker - INFO -               Threads:                          2</p>\n",
       "    \n",
       "\n",
       "    \n",
       "        <p style=\"font-family: monospace; margin: 0;\">distributed.worker - INFO -                Memory:                   1.96 GiB</p>\n",
       "    \n",
       "\n",
       "    \n",
       "        <p style=\"font-family: monospace; margin: 0;\">distributed.worker - INFO -       Local Directory: c:\\MyFile\\Edge download\\Ineuron\\dask-video-tutorial-main\\dask-video-tutorial-main\\dask-worker-space\\worker-9dzwrw6o</p>\n",
       "    \n",
       "\n",
       "    \n",
       "        <p style=\"font-family: monospace; margin: 0;\">distributed.worker - INFO - -------------------------------------------------</p>\n",
       "    \n",
       "\n",
       "    \n",
       "        <p style=\"font-family: monospace; margin: 0;\">distributed.worker - INFO -         Registered to:      tcp://127.0.0.1:59001</p>\n",
       "    \n",
       "\n",
       "    \n",
       "        <p style=\"font-family: monospace; margin: 0;\">distributed.worker - INFO - -------------------------------------------------</p>\n",
       "    \n",
       "\n",
       "    </details>\n",
       "\n",
       "    <details>\n",
       "    <summary style='display:list-item'>tcp://127.0.0.1:59034</summary>\n",
       "    \n",
       "    \n",
       "        <p style=\"font-family: monospace; margin: 0;\">distributed.worker - INFO -       Start worker at:      tcp://127.0.0.1:59034</p>\n",
       "    \n",
       "\n",
       "    \n",
       "        <p style=\"font-family: monospace; margin: 0;\">distributed.worker - INFO -          Listening to:      tcp://127.0.0.1:59034</p>\n",
       "    \n",
       "\n",
       "    \n",
       "        <p style=\"font-family: monospace; margin: 0;\">distributed.worker - INFO -          dashboard at:            127.0.0.1:59035</p>\n",
       "    \n",
       "\n",
       "    \n",
       "        <p style=\"font-family: monospace; margin: 0;\">distributed.worker - INFO - Waiting to connect to:      tcp://127.0.0.1:59001</p>\n",
       "    \n",
       "\n",
       "    \n",
       "        <p style=\"font-family: monospace; margin: 0;\">distributed.worker - INFO - -------------------------------------------------</p>\n",
       "    \n",
       "\n",
       "    \n",
       "        <p style=\"font-family: monospace; margin: 0;\">distributed.worker - INFO -               Threads:                          2</p>\n",
       "    \n",
       "\n",
       "    \n",
       "        <p style=\"font-family: monospace; margin: 0;\">distributed.worker - INFO -                Memory:                   1.96 GiB</p>\n",
       "    \n",
       "\n",
       "    \n",
       "        <p style=\"font-family: monospace; margin: 0;\">distributed.worker - INFO -       Local Directory: c:\\MyFile\\Edge download\\Ineuron\\dask-video-tutorial-main\\dask-video-tutorial-main\\dask-worker-space\\worker-0j30i6wh</p>\n",
       "    \n",
       "\n",
       "    \n",
       "        <p style=\"font-family: monospace; margin: 0;\">distributed.worker - INFO - -------------------------------------------------</p>\n",
       "    \n",
       "\n",
       "    \n",
       "        <p style=\"font-family: monospace; margin: 0;\">distributed.worker - INFO -         Registered to:      tcp://127.0.0.1:59001</p>\n",
       "    \n",
       "\n",
       "    \n",
       "        <p style=\"font-family: monospace; margin: 0;\">distributed.worker - INFO - -------------------------------------------------</p>\n",
       "    \n",
       "\n",
       "    </details>\n",
       "\n",
       "    <details>\n",
       "    <summary style='display:list-item'>tcp://127.0.0.1:59037</summary>\n",
       "    \n",
       "    \n",
       "        <p style=\"font-family: monospace; margin: 0;\">distributed.worker - INFO -       Start worker at:      tcp://127.0.0.1:59037</p>\n",
       "    \n",
       "\n",
       "    \n",
       "        <p style=\"font-family: monospace; margin: 0;\">distributed.worker - INFO -          Listening to:      tcp://127.0.0.1:59037</p>\n",
       "    \n",
       "\n",
       "    \n",
       "        <p style=\"font-family: monospace; margin: 0;\">distributed.worker - INFO -          dashboard at:            127.0.0.1:59038</p>\n",
       "    \n",
       "\n",
       "    \n",
       "        <p style=\"font-family: monospace; margin: 0;\">distributed.worker - INFO - Waiting to connect to:      tcp://127.0.0.1:59001</p>\n",
       "    \n",
       "\n",
       "    \n",
       "        <p style=\"font-family: monospace; margin: 0;\">distributed.worker - INFO - -------------------------------------------------</p>\n",
       "    \n",
       "\n",
       "    \n",
       "        <p style=\"font-family: monospace; margin: 0;\">distributed.worker - INFO -               Threads:                          2</p>\n",
       "    \n",
       "\n",
       "    \n",
       "        <p style=\"font-family: monospace; margin: 0;\">distributed.worker - INFO -                Memory:                   1.96 GiB</p>\n",
       "    \n",
       "\n",
       "    \n",
       "        <p style=\"font-family: monospace; margin: 0;\">distributed.worker - INFO -       Local Directory: c:\\MyFile\\Edge download\\Ineuron\\dask-video-tutorial-main\\dask-video-tutorial-main\\dask-worker-space\\worker-uruphpni</p>\n",
       "    \n",
       "\n",
       "    \n",
       "        <p style=\"font-family: monospace; margin: 0;\">distributed.worker - INFO - -------------------------------------------------</p>\n",
       "    \n",
       "\n",
       "    \n",
       "        <p style=\"font-family: monospace; margin: 0;\">distributed.worker - INFO -         Registered to:      tcp://127.0.0.1:59001</p>\n",
       "    \n",
       "\n",
       "    \n",
       "        <p style=\"font-family: monospace; margin: 0;\">distributed.worker - INFO - -------------------------------------------------</p>\n",
       "    \n",
       "\n",
       "    </details>\n"
      ],
      "text/plain": [
       "{'Cluster': '',\n",
       " 'Scheduler': \"distributed.scheduler - INFO - Clear task state\\ndistributed.scheduler - INFO -   Scheduler at:     tcp://127.0.0.1:59001\\ndistributed.scheduler - INFO -   dashboard at:            127.0.0.1:8787\\ndistributed.scheduler - INFO - Register worker <WorkerState 'tcp://127.0.0.1:59029', name: 1, status: running, memory: 0, processing: 0>\\ndistributed.scheduler - INFO - Starting worker compute stream, tcp://127.0.0.1:59029\\ndistributed.scheduler - INFO - Register worker <WorkerState 'tcp://127.0.0.1:59034', name: 2, status: running, memory: 0, processing: 0>\\ndistributed.scheduler - INFO - Starting worker compute stream, tcp://127.0.0.1:59034\\ndistributed.scheduler - INFO - Register worker <WorkerState 'tcp://127.0.0.1:59028', name: 3, status: running, memory: 0, processing: 0>\\ndistributed.scheduler - INFO - Starting worker compute stream, tcp://127.0.0.1:59028\\ndistributed.scheduler - INFO - Register worker <WorkerState 'tcp://127.0.0.1:59037', name: 0, status: running, memory: 0, processing: 0>\\ndistributed.scheduler - INFO - Starting worker compute stream, tcp://127.0.0.1:59037\",\n",
       " 'tcp://127.0.0.1:59028': 'distributed.worker - INFO -       Start worker at:      tcp://127.0.0.1:59028\\ndistributed.worker - INFO -          Listening to:      tcp://127.0.0.1:59028\\ndistributed.worker - INFO -          dashboard at:            127.0.0.1:59030\\ndistributed.worker - INFO - Waiting to connect to:      tcp://127.0.0.1:59001\\ndistributed.worker - INFO - -------------------------------------------------\\ndistributed.worker - INFO -               Threads:                          2\\ndistributed.worker - INFO -                Memory:                   1.96 GiB\\ndistributed.worker - INFO -       Local Directory: c:\\\\MyFile\\\\Edge download\\\\Ineuron\\\\dask-video-tutorial-main\\\\dask-video-tutorial-main\\\\dask-worker-space\\\\worker-2cw0zfgk\\ndistributed.worker - INFO - -------------------------------------------------\\ndistributed.worker - INFO -         Registered to:      tcp://127.0.0.1:59001\\ndistributed.worker - INFO - -------------------------------------------------',\n",
       " 'tcp://127.0.0.1:59029': 'distributed.worker - INFO -       Start worker at:      tcp://127.0.0.1:59029\\ndistributed.worker - INFO -          Listening to:      tcp://127.0.0.1:59029\\ndistributed.worker - INFO -          dashboard at:            127.0.0.1:59031\\ndistributed.worker - INFO - Waiting to connect to:      tcp://127.0.0.1:59001\\ndistributed.worker - INFO - -------------------------------------------------\\ndistributed.worker - INFO -               Threads:                          2\\ndistributed.worker - INFO -                Memory:                   1.96 GiB\\ndistributed.worker - INFO -       Local Directory: c:\\\\MyFile\\\\Edge download\\\\Ineuron\\\\dask-video-tutorial-main\\\\dask-video-tutorial-main\\\\dask-worker-space\\\\worker-9dzwrw6o\\ndistributed.worker - INFO - -------------------------------------------------\\ndistributed.worker - INFO -         Registered to:      tcp://127.0.0.1:59001\\ndistributed.worker - INFO - -------------------------------------------------',\n",
       " 'tcp://127.0.0.1:59034': 'distributed.worker - INFO -       Start worker at:      tcp://127.0.0.1:59034\\ndistributed.worker - INFO -          Listening to:      tcp://127.0.0.1:59034\\ndistributed.worker - INFO -          dashboard at:            127.0.0.1:59035\\ndistributed.worker - INFO - Waiting to connect to:      tcp://127.0.0.1:59001\\ndistributed.worker - INFO - -------------------------------------------------\\ndistributed.worker - INFO -               Threads:                          2\\ndistributed.worker - INFO -                Memory:                   1.96 GiB\\ndistributed.worker - INFO -       Local Directory: c:\\\\MyFile\\\\Edge download\\\\Ineuron\\\\dask-video-tutorial-main\\\\dask-video-tutorial-main\\\\dask-worker-space\\\\worker-0j30i6wh\\ndistributed.worker - INFO - -------------------------------------------------\\ndistributed.worker - INFO -         Registered to:      tcp://127.0.0.1:59001\\ndistributed.worker - INFO - -------------------------------------------------',\n",
       " 'tcp://127.0.0.1:59037': 'distributed.worker - INFO -       Start worker at:      tcp://127.0.0.1:59037\\ndistributed.worker - INFO -          Listening to:      tcp://127.0.0.1:59037\\ndistributed.worker - INFO -          dashboard at:            127.0.0.1:59038\\ndistributed.worker - INFO - Waiting to connect to:      tcp://127.0.0.1:59001\\ndistributed.worker - INFO - -------------------------------------------------\\ndistributed.worker - INFO -               Threads:                          2\\ndistributed.worker - INFO -                Memory:                   1.96 GiB\\ndistributed.worker - INFO -       Local Directory: c:\\\\MyFile\\\\Edge download\\\\Ineuron\\\\dask-video-tutorial-main\\\\dask-video-tutorial-main\\\\dask-worker-space\\\\worker-uruphpni\\ndistributed.worker - INFO - -------------------------------------------------\\ndistributed.worker - INFO -         Registered to:      tcp://127.0.0.1:59001\\ndistributed.worker - INFO - -------------------------------------------------'}"
      ]
     },
     "execution_count": 8,
     "metadata": {},
     "output_type": "execute_result"
    }
   ],
   "source": [
    "cluster.get_logs()"
   ]
  },
  {
   "cell_type": "markdown",
   "id": "313b9034",
   "metadata": {},
   "source": [
    "We can access the url that the Dask dashboard is being hosted at."
   ]
  },
  {
   "cell_type": "code",
   "execution_count": 9,
   "id": "30936bd7",
   "metadata": {},
   "outputs": [
    {
     "data": {
      "text/plain": [
       "'http://127.0.0.1:8787/status'"
      ]
     },
     "execution_count": 9,
     "metadata": {},
     "output_type": "execute_result"
    }
   ],
   "source": [
    "cluster.dashboard_link"
   ]
  },
  {
   "cell_type": "markdown",
   "id": "63dd67d5",
   "metadata": {},
   "source": [
    "In order for Dask to use our cluster we still need to create a `Client` object, but as we have already created a cluster we can pass that directly to our client."
   ]
  },
  {
   "cell_type": "code",
   "execution_count": 10,
   "id": "18f4b28d",
   "metadata": {},
   "outputs": [
    {
     "data": {
      "text/html": [
       "<div>\n",
       "    <div style=\"width: 24px; height: 24px; background-color: #e1e1e1; border: 3px solid #9D9D9D; border-radius: 5px; position: absolute;\"> </div>\n",
       "    <div style=\"margin-left: 48px;\">\n",
       "        <h3 style=\"margin-bottom: 0px;\">Client</h3>\n",
       "        <p style=\"color: #9D9D9D; margin-bottom: 0px;\">Client-e108d3a6-c454-11ec-a7b8-d335e6ae631b</p>\n",
       "        <table style=\"width: 100%; text-align: left;\">\n",
       "\n",
       "        <tr>\n",
       "        \n",
       "            <td style=\"text-align: left;\"><strong>Connection method:</strong> Cluster object</td>\n",
       "            <td style=\"text-align: left;\"><strong>Cluster type:</strong> distributed.LocalCluster</td>\n",
       "        \n",
       "        </tr>\n",
       "\n",
       "        \n",
       "            <tr>\n",
       "                <td style=\"text-align: left;\">\n",
       "                    <strong>Dashboard: </strong> <a href=\"http://127.0.0.1:8787/status\" target=\"_blank\">http://127.0.0.1:8787/status</a>\n",
       "                </td>\n",
       "                <td style=\"text-align: left;\"></td>\n",
       "            </tr>\n",
       "        \n",
       "\n",
       "        </table>\n",
       "\n",
       "        \n",
       "            <details>\n",
       "            <summary style=\"margin-bottom: 20px;\"><h3 style=\"display: inline;\">Cluster Info</h3></summary>\n",
       "            <div class=\"jp-RenderedHTMLCommon jp-RenderedHTML jp-mod-trusted jp-OutputArea-output\">\n",
       "    <div style=\"width: 24px; height: 24px; background-color: #e1e1e1; border: 3px solid #9D9D9D; border-radius: 5px; position: absolute;\">\n",
       "    </div>\n",
       "    <div style=\"margin-left: 48px;\">\n",
       "        <h3 style=\"margin-bottom: 0px; margin-top: 0px;\">LocalCluster</h3>\n",
       "        <p style=\"color: #9D9D9D; margin-bottom: 0px;\">992fd6e2</p>\n",
       "        <table style=\"width: 100%; text-align: left;\">\n",
       "            <tr>\n",
       "                <td style=\"text-align: left;\">\n",
       "                    <strong>Dashboard:</strong> <a href=\"http://127.0.0.1:8787/status\" target=\"_blank\">http://127.0.0.1:8787/status</a>\n",
       "                </td>\n",
       "                <td style=\"text-align: left;\">\n",
       "                    <strong>Workers:</strong> 4\n",
       "                </td>\n",
       "            </tr>\n",
       "            <tr>\n",
       "                <td style=\"text-align: left;\">\n",
       "                    <strong>Total threads:</strong> 8\n",
       "                </td>\n",
       "                <td style=\"text-align: left;\">\n",
       "                    <strong>Total memory:</strong> 7.85 GiB\n",
       "                </td>\n",
       "            </tr>\n",
       "            \n",
       "            <tr>\n",
       "    <td style=\"text-align: left;\"><strong>Status:</strong> running</td>\n",
       "    <td style=\"text-align: left;\"><strong>Using processes:</strong> True</td>\n",
       "</tr>\n",
       "\n",
       "            \n",
       "        </table>\n",
       "\n",
       "        <details>\n",
       "            <summary style=\"margin-bottom: 20px;\">\n",
       "                <h3 style=\"display: inline;\">Scheduler Info</h3>\n",
       "            </summary>\n",
       "\n",
       "            <div style=\"\">\n",
       "    <div>\n",
       "        <div style=\"width: 24px; height: 24px; background-color: #FFF7E5; border: 3px solid #FF6132; border-radius: 5px; position: absolute;\"> </div>\n",
       "        <div style=\"margin-left: 48px;\">\n",
       "            <h3 style=\"margin-bottom: 0px;\">Scheduler</h3>\n",
       "            <p style=\"color: #9D9D9D; margin-bottom: 0px;\">Scheduler-baf12a30-46d7-47bd-b874-fe5e7e549354</p>\n",
       "            <table style=\"width: 100%; text-align: left;\">\n",
       "                <tr>\n",
       "                    <td style=\"text-align: left;\">\n",
       "                        <strong>Comm:</strong> tcp://127.0.0.1:59001\n",
       "                    </td>\n",
       "                    <td style=\"text-align: left;\">\n",
       "                        <strong>Workers:</strong> 4\n",
       "                    </td>\n",
       "                </tr>\n",
       "                <tr>\n",
       "                    <td style=\"text-align: left;\">\n",
       "                        <strong>Dashboard:</strong> <a href=\"http://127.0.0.1:8787/status\" target=\"_blank\">http://127.0.0.1:8787/status</a>\n",
       "                    </td>\n",
       "                    <td style=\"text-align: left;\">\n",
       "                        <strong>Total threads:</strong> 8\n",
       "                    </td>\n",
       "                </tr>\n",
       "                <tr>\n",
       "                    <td style=\"text-align: left;\">\n",
       "                        <strong>Started:</strong> 3 minutes ago\n",
       "                    </td>\n",
       "                    <td style=\"text-align: left;\">\n",
       "                        <strong>Total memory:</strong> 7.85 GiB\n",
       "                    </td>\n",
       "                </tr>\n",
       "            </table>\n",
       "        </div>\n",
       "    </div>\n",
       "\n",
       "    <details style=\"margin-left: 48px;\">\n",
       "        <summary style=\"margin-bottom: 20px;\">\n",
       "            <h3 style=\"display: inline;\">Workers</h3>\n",
       "        </summary>\n",
       "\n",
       "        \n",
       "        <div style=\"margin-bottom: 20px;\">\n",
       "            <div style=\"width: 24px; height: 24px; background-color: #DBF5FF; border: 3px solid #4CC9FF; border-radius: 5px; position: absolute;\"> </div>\n",
       "            <div style=\"margin-left: 48px;\">\n",
       "            <details>\n",
       "                <summary>\n",
       "                    <h4 style=\"margin-bottom: 0px; display: inline;\">Worker: 0</h4>\n",
       "                </summary>\n",
       "                <table style=\"width: 100%; text-align: left;\">\n",
       "                    <tr>\n",
       "                        <td style=\"text-align: left;\">\n",
       "                            <strong>Comm: </strong> tcp://127.0.0.1:59037\n",
       "                        </td>\n",
       "                        <td style=\"text-align: left;\">\n",
       "                            <strong>Total threads: </strong> 2\n",
       "                        </td>\n",
       "                    </tr>\n",
       "                    <tr>\n",
       "                        <td style=\"text-align: left;\">\n",
       "                            <strong>Dashboard: </strong> <a href=\"http://127.0.0.1:59038/status\" target=\"_blank\">http://127.0.0.1:59038/status</a>\n",
       "                        </td>\n",
       "                        <td style=\"text-align: left;\">\n",
       "                            <strong>Memory: </strong> 1.96 GiB\n",
       "                        </td>\n",
       "                    </tr>\n",
       "                    <tr>\n",
       "                        <td style=\"text-align: left;\">\n",
       "                            <strong>Nanny: </strong> tcp://127.0.0.1:59004\n",
       "                        </td>\n",
       "                        <td style=\"text-align: left;\"></td>\n",
       "                    </tr>\n",
       "                    <tr>\n",
       "                        <td colspan=\"2\" style=\"text-align: left;\">\n",
       "                            <strong>Local directory: </strong> c:\\MyFile\\Edge download\\Ineuron\\dask-video-tutorial-main\\dask-video-tutorial-main\\dask-worker-space\\worker-uruphpni\n",
       "                        </td>\n",
       "                    </tr>\n",
       "\n",
       "                    \n",
       "\n",
       "                    \n",
       "\n",
       "                </table>\n",
       "            </details>\n",
       "            </div>\n",
       "        </div>\n",
       "        \n",
       "        <div style=\"margin-bottom: 20px;\">\n",
       "            <div style=\"width: 24px; height: 24px; background-color: #DBF5FF; border: 3px solid #4CC9FF; border-radius: 5px; position: absolute;\"> </div>\n",
       "            <div style=\"margin-left: 48px;\">\n",
       "            <details>\n",
       "                <summary>\n",
       "                    <h4 style=\"margin-bottom: 0px; display: inline;\">Worker: 1</h4>\n",
       "                </summary>\n",
       "                <table style=\"width: 100%; text-align: left;\">\n",
       "                    <tr>\n",
       "                        <td style=\"text-align: left;\">\n",
       "                            <strong>Comm: </strong> tcp://127.0.0.1:59029\n",
       "                        </td>\n",
       "                        <td style=\"text-align: left;\">\n",
       "                            <strong>Total threads: </strong> 2\n",
       "                        </td>\n",
       "                    </tr>\n",
       "                    <tr>\n",
       "                        <td style=\"text-align: left;\">\n",
       "                            <strong>Dashboard: </strong> <a href=\"http://127.0.0.1:59031/status\" target=\"_blank\">http://127.0.0.1:59031/status</a>\n",
       "                        </td>\n",
       "                        <td style=\"text-align: left;\">\n",
       "                            <strong>Memory: </strong> 1.96 GiB\n",
       "                        </td>\n",
       "                    </tr>\n",
       "                    <tr>\n",
       "                        <td style=\"text-align: left;\">\n",
       "                            <strong>Nanny: </strong> tcp://127.0.0.1:59006\n",
       "                        </td>\n",
       "                        <td style=\"text-align: left;\"></td>\n",
       "                    </tr>\n",
       "                    <tr>\n",
       "                        <td colspan=\"2\" style=\"text-align: left;\">\n",
       "                            <strong>Local directory: </strong> c:\\MyFile\\Edge download\\Ineuron\\dask-video-tutorial-main\\dask-video-tutorial-main\\dask-worker-space\\worker-9dzwrw6o\n",
       "                        </td>\n",
       "                    </tr>\n",
       "\n",
       "                    \n",
       "\n",
       "                    \n",
       "\n",
       "                </table>\n",
       "            </details>\n",
       "            </div>\n",
       "        </div>\n",
       "        \n",
       "        <div style=\"margin-bottom: 20px;\">\n",
       "            <div style=\"width: 24px; height: 24px; background-color: #DBF5FF; border: 3px solid #4CC9FF; border-radius: 5px; position: absolute;\"> </div>\n",
       "            <div style=\"margin-left: 48px;\">\n",
       "            <details>\n",
       "                <summary>\n",
       "                    <h4 style=\"margin-bottom: 0px; display: inline;\">Worker: 2</h4>\n",
       "                </summary>\n",
       "                <table style=\"width: 100%; text-align: left;\">\n",
       "                    <tr>\n",
       "                        <td style=\"text-align: left;\">\n",
       "                            <strong>Comm: </strong> tcp://127.0.0.1:59034\n",
       "                        </td>\n",
       "                        <td style=\"text-align: left;\">\n",
       "                            <strong>Total threads: </strong> 2\n",
       "                        </td>\n",
       "                    </tr>\n",
       "                    <tr>\n",
       "                        <td style=\"text-align: left;\">\n",
       "                            <strong>Dashboard: </strong> <a href=\"http://127.0.0.1:59035/status\" target=\"_blank\">http://127.0.0.1:59035/status</a>\n",
       "                        </td>\n",
       "                        <td style=\"text-align: left;\">\n",
       "                            <strong>Memory: </strong> 1.96 GiB\n",
       "                        </td>\n",
       "                    </tr>\n",
       "                    <tr>\n",
       "                        <td style=\"text-align: left;\">\n",
       "                            <strong>Nanny: </strong> tcp://127.0.0.1:59005\n",
       "                        </td>\n",
       "                        <td style=\"text-align: left;\"></td>\n",
       "                    </tr>\n",
       "                    <tr>\n",
       "                        <td colspan=\"2\" style=\"text-align: left;\">\n",
       "                            <strong>Local directory: </strong> c:\\MyFile\\Edge download\\Ineuron\\dask-video-tutorial-main\\dask-video-tutorial-main\\dask-worker-space\\worker-0j30i6wh\n",
       "                        </td>\n",
       "                    </tr>\n",
       "\n",
       "                    \n",
       "\n",
       "                    \n",
       "\n",
       "                </table>\n",
       "            </details>\n",
       "            </div>\n",
       "        </div>\n",
       "        \n",
       "        <div style=\"margin-bottom: 20px;\">\n",
       "            <div style=\"width: 24px; height: 24px; background-color: #DBF5FF; border: 3px solid #4CC9FF; border-radius: 5px; position: absolute;\"> </div>\n",
       "            <div style=\"margin-left: 48px;\">\n",
       "            <details>\n",
       "                <summary>\n",
       "                    <h4 style=\"margin-bottom: 0px; display: inline;\">Worker: 3</h4>\n",
       "                </summary>\n",
       "                <table style=\"width: 100%; text-align: left;\">\n",
       "                    <tr>\n",
       "                        <td style=\"text-align: left;\">\n",
       "                            <strong>Comm: </strong> tcp://127.0.0.1:59028\n",
       "                        </td>\n",
       "                        <td style=\"text-align: left;\">\n",
       "                            <strong>Total threads: </strong> 2\n",
       "                        </td>\n",
       "                    </tr>\n",
       "                    <tr>\n",
       "                        <td style=\"text-align: left;\">\n",
       "                            <strong>Dashboard: </strong> <a href=\"http://127.0.0.1:59030/status\" target=\"_blank\">http://127.0.0.1:59030/status</a>\n",
       "                        </td>\n",
       "                        <td style=\"text-align: left;\">\n",
       "                            <strong>Memory: </strong> 1.96 GiB\n",
       "                        </td>\n",
       "                    </tr>\n",
       "                    <tr>\n",
       "                        <td style=\"text-align: left;\">\n",
       "                            <strong>Nanny: </strong> tcp://127.0.0.1:59007\n",
       "                        </td>\n",
       "                        <td style=\"text-align: left;\"></td>\n",
       "                    </tr>\n",
       "                    <tr>\n",
       "                        <td colspan=\"2\" style=\"text-align: left;\">\n",
       "                            <strong>Local directory: </strong> c:\\MyFile\\Edge download\\Ineuron\\dask-video-tutorial-main\\dask-video-tutorial-main\\dask-worker-space\\worker-2cw0zfgk\n",
       "                        </td>\n",
       "                    </tr>\n",
       "\n",
       "                    \n",
       "\n",
       "                    \n",
       "\n",
       "                </table>\n",
       "            </details>\n",
       "            </div>\n",
       "        </div>\n",
       "        \n",
       "\n",
       "    </details>\n",
       "</div>\n",
       "\n",
       "        </details>\n",
       "    </div>\n",
       "</div>\n",
       "            </details>\n",
       "        \n",
       "\n",
       "    </div>\n",
       "</div>"
      ],
      "text/plain": [
       "<Client: 'tcp://127.0.0.1:59001' processes=4 threads=8, memory=7.85 GiB>"
      ]
     },
     "execution_count": 10,
     "metadata": {},
     "output_type": "execute_result"
    }
   ],
   "source": [
    "client = Client(cluster)\n",
    "client"
   ]
  },
  {
   "cell_type": "code",
   "execution_count": 13,
   "id": "a10f7b96",
   "metadata": {
    "collapsed": true
   },
   "outputs": [
    {
     "ename": "NameError",
     "evalue": "name 'client' is not defined",
     "output_type": "error",
     "traceback": [
      "\u001b[1;31m---------------------------------------------------------------------------\u001b[0m",
      "\u001b[1;31mNameError\u001b[0m                                 Traceback (most recent call last)",
      "\u001b[1;32m~\\AppData\\Local\\Temp\\ipykernel_10168\\945740810.py\u001b[0m in \u001b[0;36m<module>\u001b[1;34m\u001b[0m\n\u001b[1;32m----> 1\u001b[1;33m \u001b[1;32mdel\u001b[0m \u001b[0mclient\u001b[0m\u001b[1;33m,\u001b[0m \u001b[0mcluster\u001b[0m  \u001b[1;31m#for Deleting the Created cluster and client\u001b[0m\u001b[1;33m\u001b[0m\u001b[1;33m\u001b[0m\u001b[0m\n\u001b[0m",
      "\u001b[1;31mNameError\u001b[0m: name 'client' is not defined"
     ]
    }
   ],
   "source": [
    "del client, cluster  #for Deleting the Created cluster and client"
   ]
  },
  {
   "cell_type": "markdown",
   "id": "7fd0d399",
   "metadata": {},
   "source": [
    "## Remote clusters via SSH\n",
    "\n",
    "A common way to distribute your work onto multiple machines is via SSH. Dask has a cluster manager which will handle creating SSH connections for you called `SSHCluster`."
   ]
  },
  {
   "cell_type": "markdown",
   "id": "1132f3e1",
   "metadata": {},
   "source": [
    "```python\n",
    "from dask.distributed import SSHCluster\n",
    "```"
   ]
  },
  {
   "cell_type": "markdown",
   "id": "d17452f4",
   "metadata": {},
   "source": [
    "When constructing this cluster manager we need to pass a list of addresses, either hostnames or IP addresses, which we will SSH into and attempt to start a Dask scheduler or worker on."
   ]
  },
  {
   "cell_type": "markdown",
   "id": "8a0c656b",
   "metadata": {},
   "source": [
    "```python\n",
    "cluster = SSHCluster([\"localhost\", \"hostA\", \"hostB\"])\n",
    "cluster\n",
    "```"
   ]
  },
  {
   "cell_type": "markdown",
   "id": "1e869642",
   "metadata": {},
   "source": [
    "When we create our `SSHCluster` object we have given a list of three hostnames.\n",
    "\n",
    "The first host in the list will be used as the scheduler, all other hosts will be used as workers. If you're on the same network it wouldn't be unreasonable to set your local machine as the scheduler and then use other machines as workers.\n",
    "\n",
    "If your servers are remote to you, in the cloud for instance, you may want the scheduler to be a remote machine too to avoid network bottlenecks."
   ]
  },
  {
   "cell_type": "markdown",
   "id": "ba1b4eb3",
   "metadata": {},
   "source": [
    "## Scalable clusters\n",
    "\n",
    "Both of the clusters we have seen so far are fixed size clusters. We are either running locally and using all the resources in our machine, or we are using an explicit number of other machines via SSH.\n",
    "\n",
    "With some cluster managers it is possible to increase and descrease the number of workers either by calling `cluster.scale(n)` in your code where `n` is the desired number of workers. Or you can let Dask do this dynamically by calling `cluster.adapt(minimum=1, maximum=100)` where minimum and maximum are your preferred limits for Dask to abide to.\n",
    "\n",
    "It is always good to keep your minimum to at least 1 as Dask will start running work on a single worker in order to profile how long things take and extrapolate how many additional workers it thinks it needs. Getting new workers may take time depending on your setup so keeping this at 1 or above means this profilling will start immediately.\n",
    "\n",
    "We currently have cluster managers for [Kubernetes](https://kubernetes.dask.org/en/latest/), [Hadoop/Yarn](https://yarn.dask.org/en/latest/), [cloud platforms](https://cloudprovider.dask.org/en/latest/) and [batch systems including PBS, SLURM and SGE](http://jobqueue.dask.org/en/latest/).\n",
    "\n",
    "These cluster managers allow users who have access to resources such as these to bootstrap Dask clusters on to them. If an institution wishes to provide a central service that users can request Dask clusters from there is also [Dask Gateway](https://gateway.dask.org/)."
   ]
  },
  {
   "cell_type": "code",
   "execution_count": null,
   "id": "299b89c5-f176-43f6-ae77-eee92aa998c9",
   "metadata": {},
   "outputs": [],
   "source": [
    "from dask.distributed import Client\n",
    "\n",
    "client = Client()\n",
    "client"
   ]
  },
  {
   "cell_type": "code",
   "execution_count": 11,
   "id": "d3880f9a",
   "metadata": {},
   "outputs": [],
   "source": [
    "client.close()"
   ]
  },
  {
   "cell_type": "code",
   "execution_count": 2,
   "id": "fb7084e8",
   "metadata": {},
   "outputs": [
    {
     "data": {
      "text/html": [
       "<div>\n",
       "    <div style=\"width: 24px; height: 24px; background-color: #e1e1e1; border: 3px solid #9D9D9D; border-radius: 5px; position: absolute;\"> </div>\n",
       "    <div style=\"margin-left: 48px;\">\n",
       "        <h3 style=\"margin-bottom: 0px;\">Client</h3>\n",
       "        <p style=\"color: #9D9D9D; margin-bottom: 0px;\">Client-bb4e7df6-c450-11ec-a7b8-d335e6ae631b</p>\n",
       "        <table style=\"width: 100%; text-align: left;\">\n",
       "\n",
       "        <tr>\n",
       "        \n",
       "            <td style=\"text-align: left;\"><strong>Connection method:</strong> Cluster object</td>\n",
       "            <td style=\"text-align: left;\"><strong>Cluster type:</strong> distributed.LocalCluster</td>\n",
       "        \n",
       "        </tr>\n",
       "\n",
       "        \n",
       "            <tr>\n",
       "                <td style=\"text-align: left;\">\n",
       "                    <strong>Dashboard: </strong> <a href=\"http://127.0.0.1:8787/status\" target=\"_blank\">http://127.0.0.1:8787/status</a>\n",
       "                </td>\n",
       "                <td style=\"text-align: left;\"></td>\n",
       "            </tr>\n",
       "        \n",
       "\n",
       "        </table>\n",
       "\n",
       "        \n",
       "            <details>\n",
       "            <summary style=\"margin-bottom: 20px;\"><h3 style=\"display: inline;\">Cluster Info</h3></summary>\n",
       "            <div class=\"jp-RenderedHTMLCommon jp-RenderedHTML jp-mod-trusted jp-OutputArea-output\">\n",
       "    <div style=\"width: 24px; height: 24px; background-color: #e1e1e1; border: 3px solid #9D9D9D; border-radius: 5px; position: absolute;\">\n",
       "    </div>\n",
       "    <div style=\"margin-left: 48px;\">\n",
       "        <h3 style=\"margin-bottom: 0px; margin-top: 0px;\">LocalCluster</h3>\n",
       "        <p style=\"color: #9D9D9D; margin-bottom: 0px;\">1b6364af</p>\n",
       "        <table style=\"width: 100%; text-align: left;\">\n",
       "            <tr>\n",
       "                <td style=\"text-align: left;\">\n",
       "                    <strong>Dashboard:</strong> <a href=\"http://127.0.0.1:8787/status\" target=\"_blank\">http://127.0.0.1:8787/status</a>\n",
       "                </td>\n",
       "                <td style=\"text-align: left;\">\n",
       "                    <strong>Workers:</strong> 1\n",
       "                </td>\n",
       "            </tr>\n",
       "            <tr>\n",
       "                <td style=\"text-align: left;\">\n",
       "                    <strong>Total threads:</strong> 1\n",
       "                </td>\n",
       "                <td style=\"text-align: left;\">\n",
       "                    <strong>Total memory:</strong> 0.93 GiB\n",
       "                </td>\n",
       "            </tr>\n",
       "            \n",
       "            <tr>\n",
       "    <td style=\"text-align: left;\"><strong>Status:</strong> running</td>\n",
       "    <td style=\"text-align: left;\"><strong>Using processes:</strong> True</td>\n",
       "</tr>\n",
       "\n",
       "            \n",
       "        </table>\n",
       "\n",
       "        <details>\n",
       "            <summary style=\"margin-bottom: 20px;\">\n",
       "                <h3 style=\"display: inline;\">Scheduler Info</h3>\n",
       "            </summary>\n",
       "\n",
       "            <div style=\"\">\n",
       "    <div>\n",
       "        <div style=\"width: 24px; height: 24px; background-color: #FFF7E5; border: 3px solid #FF6132; border-radius: 5px; position: absolute;\"> </div>\n",
       "        <div style=\"margin-left: 48px;\">\n",
       "            <h3 style=\"margin-bottom: 0px;\">Scheduler</h3>\n",
       "            <p style=\"color: #9D9D9D; margin-bottom: 0px;\">Scheduler-7270994c-cf2b-42fb-bbe7-a34f9243f5f0</p>\n",
       "            <table style=\"width: 100%; text-align: left;\">\n",
       "                <tr>\n",
       "                    <td style=\"text-align: left;\">\n",
       "                        <strong>Comm:</strong> tcp://127.0.0.1:56662\n",
       "                    </td>\n",
       "                    <td style=\"text-align: left;\">\n",
       "                        <strong>Workers:</strong> 1\n",
       "                    </td>\n",
       "                </tr>\n",
       "                <tr>\n",
       "                    <td style=\"text-align: left;\">\n",
       "                        <strong>Dashboard:</strong> <a href=\"http://127.0.0.1:8787/status\" target=\"_blank\">http://127.0.0.1:8787/status</a>\n",
       "                    </td>\n",
       "                    <td style=\"text-align: left;\">\n",
       "                        <strong>Total threads:</strong> 1\n",
       "                    </td>\n",
       "                </tr>\n",
       "                <tr>\n",
       "                    <td style=\"text-align: left;\">\n",
       "                        <strong>Started:</strong> Just now\n",
       "                    </td>\n",
       "                    <td style=\"text-align: left;\">\n",
       "                        <strong>Total memory:</strong> 0.93 GiB\n",
       "                    </td>\n",
       "                </tr>\n",
       "            </table>\n",
       "        </div>\n",
       "    </div>\n",
       "\n",
       "    <details style=\"margin-left: 48px;\">\n",
       "        <summary style=\"margin-bottom: 20px;\">\n",
       "            <h3 style=\"display: inline;\">Workers</h3>\n",
       "        </summary>\n",
       "\n",
       "        \n",
       "        <div style=\"margin-bottom: 20px;\">\n",
       "            <div style=\"width: 24px; height: 24px; background-color: #DBF5FF; border: 3px solid #4CC9FF; border-radius: 5px; position: absolute;\"> </div>\n",
       "            <div style=\"margin-left: 48px;\">\n",
       "            <details>\n",
       "                <summary>\n",
       "                    <h4 style=\"margin-bottom: 0px; display: inline;\">Worker: 0</h4>\n",
       "                </summary>\n",
       "                <table style=\"width: 100%; text-align: left;\">\n",
       "                    <tr>\n",
       "                        <td style=\"text-align: left;\">\n",
       "                            <strong>Comm: </strong> tcp://127.0.0.1:56671\n",
       "                        </td>\n",
       "                        <td style=\"text-align: left;\">\n",
       "                            <strong>Total threads: </strong> 1\n",
       "                        </td>\n",
       "                    </tr>\n",
       "                    <tr>\n",
       "                        <td style=\"text-align: left;\">\n",
       "                            <strong>Dashboard: </strong> <a href=\"http://127.0.0.1:56672/status\" target=\"_blank\">http://127.0.0.1:56672/status</a>\n",
       "                        </td>\n",
       "                        <td style=\"text-align: left;\">\n",
       "                            <strong>Memory: </strong> 0.93 GiB\n",
       "                        </td>\n",
       "                    </tr>\n",
       "                    <tr>\n",
       "                        <td style=\"text-align: left;\">\n",
       "                            <strong>Nanny: </strong> tcp://127.0.0.1:56665\n",
       "                        </td>\n",
       "                        <td style=\"text-align: left;\"></td>\n",
       "                    </tr>\n",
       "                    <tr>\n",
       "                        <td colspan=\"2\" style=\"text-align: left;\">\n",
       "                            <strong>Local directory: </strong> c:\\MyFile\\Edge download\\Ineuron\\dask-video-tutorial-main\\dask-video-tutorial-main\\dask-worker-space\\worker-1mxygj2_\n",
       "                        </td>\n",
       "                    </tr>\n",
       "\n",
       "                    \n",
       "\n",
       "                    \n",
       "\n",
       "                </table>\n",
       "            </details>\n",
       "            </div>\n",
       "        </div>\n",
       "        \n",
       "\n",
       "    </details>\n",
       "</div>\n",
       "\n",
       "        </details>\n",
       "    </div>\n",
       "</div>\n",
       "            </details>\n",
       "        \n",
       "\n",
       "    </div>\n",
       "</div>"
      ],
      "text/plain": [
       "<Client: 'tcp://127.0.0.1:56662' processes=1 threads=1, memory=0.93 GiB>"
      ]
     },
     "execution_count": 2,
     "metadata": {},
     "output_type": "execute_result"
    }
   ],
   "source": [
    "from dask.distributed import Client\n",
    "\n",
    "client = Client(n_workers=1, threads_per_worker=1, memory_limit='1GB')\n",
    "client "
   ]
  },
  {
   "cell_type": "code",
   "execution_count": null,
   "id": "17e9a087",
   "metadata": {},
   "outputs": [],
   "source": [
    "import numpy as np\n",
    "import dask.array as da"
   ]
  },
  {
   "cell_type": "code",
   "execution_count": null,
   "id": "8e2ad7e4",
   "metadata": {},
   "outputs": [],
   "source": [
    "import numpy as np\n",
    "%%time\n",
    "a = np.random.normal(10, 0.1, size=(20000, 20000))\n",
    "b = a.mean(axis=0)[::100]\n",
    "b"
   ]
  },
  {
   "cell_type": "code",
   "execution_count": null,
   "id": "0a7d1fbb",
   "metadata": {},
   "outputs": [],
   "source": [
    "import dask.array as da\n",
    "\n",
    "%%time\n",
    "x = da.random.normal(10, 0.1, size=(20000, 20000), chunks=(1000, 1000))\n",
    "y = x.mean(axis=0)[::100]\n",
    "y.compute()"
   ]
  },
  {
   "cell_type": "code",
   "execution_count": null,
   "id": "60615923",
   "metadata": {},
   "outputs": [],
   "source": [
    "a_np = np.arange(1, 55, 3)\n",
    "a_np"
   ]
  },
  {
   "cell_type": "code",
   "execution_count": null,
   "id": "426bd7f6",
   "metadata": {},
   "outputs": [],
   "source": [
    "len(a_np)   "
   ]
  },
  {
   "cell_type": "code",
   "execution_count": null,
   "id": "6b3102bb",
   "metadata": {},
   "outputs": [],
   "source": [
    "a_da = da.arange(1, 55, 3, chunks=6)   # chunk means create small packet of data  18 data in 6 chunks means 18/6 = 3\n",
    "a_da"
   ]
  },
  {
   "cell_type": "code",
   "execution_count": null,
   "id": "c6d8463d",
   "metadata": {},
   "outputs": [],
   "source": [
    "print(a_da.dtype)\n",
    "print(a_da.shape)"
   ]
  },
  {
   "cell_type": "code",
   "execution_count": null,
   "id": "0440d892",
   "metadata": {},
   "outputs": [],
   "source": [
    "print(a_da.chunks)   # indexing will start with 0 in array  thats why   6 + 6 + 5 = 17 ( 0-17  ,len = 18 )\n"
   ]
  },
  {
   "cell_type": "code",
   "execution_count": null,
   "id": "e26d598e",
   "metadata": {},
   "outputs": [],
   "source": [
    "print(a_da.chunksize)"
   ]
  },
  {
   "cell_type": "code",
   "execution_count": null,
   "id": "81f5cd01",
   "metadata": {},
   "outputs": [],
   "source": [
    "a_da.visualize()   # Three Chunks"
   ]
  },
  {
   "cell_type": "code",
   "execution_count": null,
   "id": "9a53f6e9",
   "metadata": {},
   "outputs": [],
   "source": [
    "(a_da ** 2).visualize()\n"
   ]
  },
  {
   "cell_type": "code",
   "execution_count": null,
   "id": "efe61e0e",
   "metadata": {},
   "outputs": [],
   "source": [
    "(a_da ** 2).compute()\n"
   ]
  },
  {
   "cell_type": "code",
   "execution_count": null,
   "id": "041580c4",
   "metadata": {},
   "outputs": [],
   "source": [
    "type((a_da ** 2).compute())"
   ]
  },
  {
   "cell_type": "markdown",
   "id": "37c9b92e",
   "metadata": {},
   "source": [
    "Dask arrays support a large portion of the NumPy interface:\n",
    "\n",
    "- Arithmetic and scalar mathematics: `+`, `*`, `exp`, `log`, ...\n",
    "\n",
    "- Reductions along axes: `sum()`, `mean()`, `std()`, `sum(axis=0)`, ...\n",
    "\n",
    "- Tensor contractions / dot products / matrix multiply: `tensordot`\n",
    "\n",
    "- Axis reordering / transpose: `transpose`\n",
    "\n",
    "- Slicing: `x[:100, 500:100:-2]`\n",
    "\n",
    "- Fancy indexing along single axes with lists or numpy arrays: `x[:, [10, 1, 5]]`\n",
    "\n",
    "- Array protocols like `__array__` and `__array_ufunc__`\n",
    "\n",
    "- Some linear algebra: `svd`, `qr`, `solve`, `solve_triangular`, `lstsq`, ...\n",
    "\n",
    "- ...\n",
    "\n",
    "See the [Dask array API docs](http://docs.dask.org/en/latest/array-api.html) for full details about what portion of the NumPy API is implemented for Dask arrays."
   ]
  },
  {
   "cell_type": "markdown",
   "id": "41ffc775",
   "metadata": {},
   "source": [
    "### Blocked Algorithms\n",
    "\n",
    "Dask arrays are implemented using _blocked algorithms_. These algorithms break up a computation on a large array into many computations on smaller peices of the array. This minimizes the memory load (amount of RAM) of computations and allows for working with larger-than-memory datasets in parallel."
   ]
  },
  {
   "cell_type": "code",
   "execution_count": null,
   "id": "727b06ed",
   "metadata": {},
   "outputs": [],
   "source": [
    "x = da.random.random(20, chunks=5)  # chunks ( row,col)\n",
    "x"
   ]
  },
  {
   "cell_type": "code",
   "execution_count": null,
   "id": "2fa1b091",
   "metadata": {},
   "outputs": [],
   "source": [
    "result = x.sum()\n",
    "result"
   ]
  },
  {
   "cell_type": "code",
   "execution_count": null,
   "id": "5c2952fe",
   "metadata": {},
   "outputs": [],
   "source": [
    "result.visualize()\n"
   ]
  },
  {
   "cell_type": "code",
   "execution_count": null,
   "id": "5afcdba0",
   "metadata": {},
   "outputs": [],
   "source": [
    "result.compute()"
   ]
  },
  {
   "cell_type": "markdown",
   "id": "5251a27e",
   "metadata": {},
   "source": [
    "**Dask supports a large portion of the NumPy API. This can be used to build up more complex computations using the familiar NumPy operations you're used to.**"
   ]
  },
  {
   "cell_type": "code",
   "execution_count": null,
   "id": "36a6a2e8",
   "metadata": {},
   "outputs": [],
   "source": [
    "np.random.random(size = (4,4))"
   ]
  },
  {
   "cell_type": "code",
   "execution_count": null,
   "id": "e8ddf95c",
   "metadata": {},
   "outputs": [],
   "source": [
    "x = da.random.random(size=(4,4), chunks=(1,2))  #Here 4 row with 1 chunk = 4 row blocks ,\n",
    "                                                #4 column with 2 chunks 4/2 = 2 column blocks\n",
    "x"
   ]
  },
  {
   "cell_type": "code",
   "execution_count": null,
   "id": "1991d046",
   "metadata": {},
   "outputs": [],
   "source": [
    "result = (x + x.T)\n",
    "result.shape"
   ]
  },
  {
   "cell_type": "code",
   "execution_count": null,
   "id": "e0c32292",
   "metadata": {},
   "outputs": [],
   "source": [
    "results = (x + x.T).sum() \n",
    "results"
   ]
  },
  {
   "cell_type": "code",
   "execution_count": null,
   "id": "00b2c775",
   "metadata": {},
   "outputs": [],
   "source": [
    "result.visualize()"
   ]
  },
  {
   "cell_type": "markdown",
   "id": "196779ca",
   "metadata": {},
   "source": [
    "**eg. 2**"
   ]
  },
  {
   "cell_type": "code",
   "execution_count": null,
   "id": "3f02167d",
   "metadata": {},
   "outputs": [],
   "source": [
    "x = da.random.random(size=(15, 15), chunks=(10, 5))\n",
    "x"
   ]
  },
  {
   "cell_type": "code",
   "execution_count": null,
   "id": "fd6c2ef2",
   "metadata": {},
   "outputs": [],
   "source": [
    "result = (x + x.T).sum()\n",
    "result"
   ]
  },
  {
   "cell_type": "code",
   "execution_count": null,
   "id": "972a3989",
   "metadata": {},
   "outputs": [],
   "source": [
    "result.visualize()"
   ]
  },
  {
   "cell_type": "code",
   "execution_count": null,
   "id": "b760bc6f",
   "metadata": {},
   "outputs": [],
   "source": [
    "result.compute()   #Final Result of sum"
   ]
  },
  {
   "cell_type": "markdown",
   "id": "24919edb",
   "metadata": {},
   "source": [
    "**We can perform computations on larger-than-memory arrays!**"
   ]
  },
  {
   "cell_type": "code",
   "execution_count": null,
   "id": "73c6a089",
   "metadata": {},
   "outputs": [],
   "source": [
    "x = da.random.random(size=(20000, 20000), chunks=(2000, 2000))\n",
    "x"
   ]
  },
  {
   "cell_type": "code",
   "execution_count": null,
   "id": "01db2a4c",
   "metadata": {},
   "outputs": [],
   "source": [
    "result = (x + x.T).sum()\n",
    "result"
   ]
  },
  {
   "cell_type": "code",
   "execution_count": null,
   "id": "86947093",
   "metadata": {},
   "outputs": [],
   "source": [
    "result.visualize()"
   ]
  },
  {
   "cell_type": "code",
   "execution_count": null,
   "id": "5178423e",
   "metadata": {},
   "outputs": [],
   "source": [
    "result.compute()"
   ]
  },
  {
   "cell_type": "code",
   "execution_count": null,
   "id": "f42075b2",
   "metadata": {},
   "outputs": [],
   "source": [
    "client.close()"
   ]
  },
  {
   "cell_type": "markdown",
   "id": "a5fcf303",
   "metadata": {},
   "source": [
    "### Limitation of Dask Arrays"
   ]
  },
  {
   "cell_type": "markdown",
   "id": "626e54aa",
   "metadata": {},
   "source": [
    "1. Defining the best chunk size not to big not too small.\n",
    "\n",
    "2. The best sizes and shapes depend on the situation at hand; chunk sizes of less than 100 MB are uncommon. When working with float64 data, the size of a 2D array will be about (4000, 4000) and a 3D array will be around (100, 400, 400).\n",
    "\n",
    "3. If your Dask array chunks aren't multiples of these chunk shapes, you'll have to read the same data over and over again.\n",
    "\n",
    "4. By default it consume 1 Core for each Task."
   ]
  },
  {
   "cell_type": "markdown",
   "id": "8685a3ff",
   "metadata": {},
   "source": [
    "### Parallelizing python code with dask"
   ]
  },
  {
   "cell_type": "markdown",
   "id": "3570c4b0",
   "metadata": {},
   "source": [
    "#### Lazy Evaluation"
   ]
  },
  {
   "cell_type": "markdown",
   "id": "8345dd20",
   "metadata": {},
   "source": [
    "**1. Parallel computing employs a technique known as \"lazy\" evaluation. This means that your framework will queue up sets of transformations or calculations to be executed in parallel later. This is a concept found in several parallel computing frameworks, notably Dask.**\n",
    "\n",
    "**2 . Many very common and handy functions are ported to be native in Dask, which means they will be lazy (delayed computation) without you ever having to even ask.**"
   ]
  },
  {
   "cell_type": "markdown",
   "id": "11e968ec",
   "metadata": {},
   "source": [
    "#### Dask Delayed\n",
    "\n"
   ]
  },
  {
   "cell_type": "code",
   "execution_count": null,
   "id": "67677fcf",
   "metadata": {},
   "outputs": [],
   "source": [
    "def exponent(x, y):\n",
    "    '''Define a basic function.'''\n",
    "    return x ** y\n",
    "\n",
    "# Function returns result immediately when called\n",
    "exponent(4, 5)\n"
   ]
  },
  {
   "cell_type": "code",
   "execution_count": null,
   "id": "2cf1805e",
   "metadata": {},
   "outputs": [],
   "source": [
    "import dask\n",
    "\n",
    "@dask.delayed\n",
    "def lazy_exponent(x, y):\n",
    "    '''Define a lazily evaluating function'''\n",
    "    return x ** y\n",
    "\n",
    "# Function returns a delayed object, not computation result\n",
    "lazy_exponent(4, 5)"
   ]
  },
  {
   "cell_type": "code",
   "execution_count": null,
   "id": "0c8e54ef",
   "metadata": {},
   "outputs": [],
   "source": [
    "# This will now return the computation\n",
    "lazy_exponent(4,5).compute()\n",
    "\n"
   ]
  },
  {
   "cell_type": "markdown",
   "id": "e04a74d1",
   "metadata": {},
   "source": [
    "**Here we return a delayed value from the first function and call it x. Then we pass x to the function a second time and call it y. Finally, we multiply x and y to produce z**"
   ]
  },
  {
   "cell_type": "code",
   "execution_count": null,
   "id": "e8f1acde",
   "metadata": {},
   "outputs": [],
   "source": [
    "x = lazy_exponent(4, 5)\n",
    "y = lazy_exponent(x, 2)\n",
    "z = x * y\n",
    "z"
   ]
  },
  {
   "cell_type": "code",
   "execution_count": null,
   "id": "9abf3381",
   "metadata": {},
   "outputs": [],
   "source": [
    "z.visualize(rankdir=\"LR\")"
   ]
  },
  {
   "cell_type": "code",
   "execution_count": null,
   "id": "bcdc9b69",
   "metadata": {},
   "outputs": [],
   "source": [
    "z.visualize(rankdir='L')"
   ]
  },
  {
   "cell_type": "code",
   "execution_count": null,
   "id": "c66d6e83",
   "metadata": {},
   "outputs": [],
   "source": [
    "z.compute()"
   ]
  },
  {
   "cell_type": "markdown",
   "id": "d897f20d",
   "metadata": {},
   "source": [
    "## Compute and Persist"
   ]
  },
  {
   "cell_type": "markdown",
   "id": "937fb820",
   "metadata": {},
   "source": [
    "#### Compute\n",
    "**If we use .compute(), we are asking Dask to take all the computations and adjustments to the data that we have queued up, and run them, and bring it all to the surface in Jupyter or your local workspace.**\n",
    "\n",
    "**That means if it was distributed we want to convert it into a local object here and now. If it’s a Dask Dataframe, when we call .compute(), we’re saying “Run the transformations we’ve queued, and convert this into a pandas dataframe immediately.” Be careful, though- if your dataset is extremely large, this could mean you won’t have enough memory for this task to be completed, and your kernel could crash!**"
   ]
  },
  {
   "cell_type": "markdown",
   "id": "7c520635",
   "metadata": {},
   "source": [
    "#### Persist\n",
    "\n",
    "**If we use .persist(), we are asking Dask to take all the computations and adjustments to the data that we have queued up, and run them, but then the object is going to remain distributed and will live on the cluster (a LocalCluster if you are on one machine).**\n",
    "\n",
    "**So when we do this with a Dask Dataframe, we are telling our cluster “Run the transformations we’ve queued, and leave this as a distributed Dask Dataframe.”**"
   ]
  },
  {
   "cell_type": "markdown",
   "id": "b10516d4",
   "metadata": {},
   "source": [
    "#### schedulers"
   ]
  },
  {
   "cell_type": "markdown",
   "id": "6ddb9387",
   "metadata": {},
   "source": [
    "**The Dask library contains a few schedulers that can be used to execute these graphs. Each scheduler works in a unique way, with distinct performance guarantees and in unique situations. Others can simply develop different schedulers that are better suited to different applications or architectures based on these implementations. Dask graph-emitting systems (such as Dask Array, Dask Bag, and others) may employ the suitable scheduler for the application and hardware.**"
   ]
  },
  {
   "cell_type": "code",
   "execution_count": null,
   "id": "4fc484c5",
   "metadata": {},
   "outputs": [],
   "source": []
  },
  {
   "cell_type": "code",
   "execution_count": null,
   "id": "eca84b96",
   "metadata": {},
   "outputs": [],
   "source": []
  },
  {
   "cell_type": "code",
   "execution_count": null,
   "id": "13fe6e67",
   "metadata": {},
   "outputs": [],
   "source": []
  },
  {
   "cell_type": "code",
   "execution_count": null,
   "id": "095e0ee8",
   "metadata": {},
   "outputs": [],
   "source": []
  },
  {
   "cell_type": "code",
   "execution_count": null,
   "id": "a0834333",
   "metadata": {},
   "outputs": [],
   "source": []
  },
  {
   "cell_type": "code",
   "execution_count": null,
   "id": "17990c7c",
   "metadata": {},
   "outputs": [],
   "source": []
  },
  {
   "cell_type": "code",
   "execution_count": null,
   "id": "b1da7b20",
   "metadata": {},
   "outputs": [],
   "source": []
  },
  {
   "cell_type": "code",
   "execution_count": null,
   "id": "2e8cf959",
   "metadata": {},
   "outputs": [],
   "source": []
  },
  {
   "cell_type": "code",
   "execution_count": null,
   "id": "0bd4e9b2",
   "metadata": {},
   "outputs": [],
   "source": [
    "# index = pd.date_range(\"2021-09-01\", periods=2400, freq=\"1H\")"
   ]
  },
  {
   "cell_type": "code",
   "execution_count": null,
   "id": "fef0db72",
   "metadata": {},
   "outputs": [],
   "source": [
    "\n",
    "# import dask.dataframe as dd\n",
    "# import dask.array as da\n",
    "# import dask.bag as db"
   ]
  },
  {
   "cell_type": "code",
   "execution_count": null,
   "id": "b5998bf1",
   "metadata": {},
   "outputs": [],
   "source": [
    "#df = pd.DataFrame({\"a\": np.arange(2400), \"b\": list(\"abcaddbe\" * 300)}, index=index)"
   ]
  },
  {
   "cell_type": "code",
   "execution_count": null,
   "id": "20717061",
   "metadata": {},
   "outputs": [],
   "source": [
    "#ddf = dd.from_pandas(df, npartitions=12)   ## 12 task\n",
    "#ddf"
   ]
  },
  {
   "cell_type": "markdown",
   "id": "3e1e2b52",
   "metadata": {},
   "source": [
    "**Now we have a DataFrame with 2 columns and 2400 rows composed of 10 partitions where each partition has 240 rows. Each partition represents a piece of the data**"
   ]
  },
  {
   "cell_type": "code",
   "execution_count": null,
   "id": "e1042f57",
   "metadata": {},
   "outputs": [],
   "source": [
    "#ddf.divisions"
   ]
  },
  {
   "cell_type": "code",
   "execution_count": null,
   "id": "4d0ed193",
   "metadata": {},
   "outputs": [],
   "source": []
  }
 ],
 "metadata": {
  "kernelspec": {
   "display_name": "Python 3 (ipykernel)",
   "language": "python",
   "name": "python3"
  },
  "language_info": {
   "codemirror_mode": {
    "name": "ipython",
    "version": 3
   },
   "file_extension": ".py",
   "mimetype": "text/x-python",
   "name": "python",
   "nbconvert_exporter": "python",
   "pygments_lexer": "ipython3",
   "version": "3.9.7"
  }
 },
 "nbformat": 4,
 "nbformat_minor": 5
}
